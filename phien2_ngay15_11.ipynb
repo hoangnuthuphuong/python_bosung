{
  "nbformat": 4,
  "nbformat_minor": 0,
  "metadata": {
    "colab": {
      "name": "phien2_ngay15/11",
      "private_outputs": true,
      "provenance": [],
      "authorship_tag": "ABX9TyMUtL7wchVFj7bjjaS12quH",
      "include_colab_link": true
    },
    "kernelspec": {
      "name": "python3",
      "display_name": "Python 3"
    },
    "language_info": {
      "name": "python"
    }
  },
  "cells": [
    {
      "cell_type": "markdown",
      "metadata": {
        "id": "view-in-github",
        "colab_type": "text"
      },
      "source": [
        "<a href=\"https://colab.research.google.com/github/hoangnuthuphuong/python_bosung/blob/main/phien2_ngay15_11.ipynb\" target=\"_parent\"><img src=\"https://colab.research.google.com/assets/colab-badge.svg\" alt=\"Open In Colab\"/></a>"
      ]
    },
    {
      "cell_type": "markdown",
      "metadata": {
        "id": "AvqfexCph6gH"
      },
      "source": [
        "#TUPLES"
      ]
    },
    {
      "cell_type": "code",
      "metadata": {
        "id": "DomBb8ZldJi6"
      },
      "source": [
        "tup1 = ('physics', 'chemistry', 1997, 2000)\n",
        "tup2 = (1, 2, 3, 4, 5, 6, 7 )\n",
        "print(\"tup1[0]: \", tup1[0])\n",
        "print(\"tup2[1:5]: \", tup2[1:5])"
      ],
      "execution_count": null,
      "outputs": []
    },
    {
      "cell_type": "code",
      "metadata": {
        "id": "cCOnTkxCdKZo"
      },
      "source": [
        "tup1 = (12, 34.56)\n",
        "tup2 = ('abc', 'xyz')\n",
        "tup3 = tup1 + tup2\n",
        "print(tup3)"
      ],
      "execution_count": null,
      "outputs": []
    },
    {
      "cell_type": "code",
      "metadata": {
        "id": "NXfApk9zdgFQ"
      },
      "source": [
        "tup1 = (1, 2, 3, 4, 5, 6, 7 , 'hi')\n",
        "print(len(tup1))\n",
        "print((2, 3) + (4, 5, 6))\n",
        "print((\"Hello!\") * 3)\n",
        "for x in (1, 2, 3):\n",
        "   print(x)\n",
        "\"phuong\" in (1, 2, 3, 4, 5, 6, 7 , 'hi')\n"
      ],
      "execution_count": null,
      "outputs": []
    },
    {
      "cell_type": "code",
      "metadata": {
        "id": "EaJ_LB4sd0IJ"
      },
      "source": [
        "T = (\"Red\", \"Yellow\", \"Green\")\n",
        "print(\"phần tử thứ 3 của tuples: \",T[2])\n",
        "print(\"phần tử thứ 2 từ phải qua của tuples: \",T[-2]) \n",
        "print(\"từ phần tử thứ 2 đến hết tuples: \",T[1:])"
      ],
      "execution_count": null,
      "outputs": []
    },
    {
      "cell_type": "code",
      "metadata": {
        "id": "WFbjM_33etGx"
      },
      "source": [
        "T = (4, 9, 6, 5, 2, 8, 7)\n",
        "\n",
        "print(\"Tổng = \", sum(T))\n",
        "print(\"Min = \",min(T))\n",
        "print(\"Max = \",max(T))\n",
        "print(\"Len= \",len(T))"
      ],
      "execution_count": null,
      "outputs": []
    },
    {
      "cell_type": "code",
      "metadata": {
        "id": "NY_Gt4usgWpq"
      },
      "source": [
        "list1 = [1, 2, 3, 4, 5, 6, 7 ]\n",
        "tuple(list1)\n"
      ],
      "execution_count": null,
      "outputs": []
    },
    {
      "cell_type": "markdown",
      "metadata": {
        "id": "-NRYd0ughAUO"
      },
      "source": [
        "#DICTIONARY"
      ]
    },
    {
      "cell_type": "code",
      "metadata": {
        "id": "ygxjws2lgsFQ"
      },
      "source": [
        "D = {'Name': 'Zara', 'Age': 7, 'Class': 'First'}\n",
        "print(\"Dict['Name']: \", D['Name'])\n",
        "print(\"Dict['Age']: \", D['Age'])"
      ],
      "execution_count": null,
      "outputs": []
    },
    {
      "cell_type": "code",
      "metadata": {
        "id": "rbaTMaDFhJ_H"
      },
      "source": [
        "D = {'Name': 'Zara', 'Age': 7, 'Class': 'First'}\n",
        "D['Age'] = 8; # update existing entry\n",
        "D['School'] = \"DPS School\"; # Add new entry\n",
        "print(\"Dict['Age']: \", D['Age'])\n",
        "print(\"Dict['School']: \", D['School'])"
      ],
      "execution_count": null,
      "outputs": []
    },
    {
      "cell_type": "code",
      "metadata": {
        "id": "78R5z2g_hZ3K"
      },
      "source": [
        "D = {'Name': 'Zara', 'Age': 7, 'Class': 'First'}\n",
        "del D['Name'] \n",
        "print(D)\n"
      ],
      "execution_count": null,
      "outputs": []
    },
    {
      "cell_type": "code",
      "metadata": {
        "id": "U3jvPWmUheJx"
      },
      "source": [
        "D = {'Name': 'Zara', 'Age': 7, 'Class': 'First'}\n",
        "dict.clear()\n",
        "print(dict)"
      ],
      "execution_count": null,
      "outputs": []
    },
    {
      "cell_type": "code",
      "metadata": {
        "id": "fEcu_2KtiZlO"
      },
      "source": [
        "D = {'Name': 'Zara', 'Age': 7, 'Class': 'First'}\n",
        "print(len(D))\n",
        "print(str(D))"
      ],
      "execution_count": null,
      "outputs": []
    },
    {
      "cell_type": "code",
      "metadata": {
        "id": "4odvh8LMiqpK"
      },
      "source": [
        "D = {'Name': 'Zara', 'Age': 7, 'Class': 'First'}\n",
        "print(\"Xóa tất cả phần tử của Dictionary\",D.clear())\n",
        "\n",
        "print(\"Sao chép Dictionary\")\n",
        "D.copy() \n",
        "\n",
        "print (\"Giá trị của key 'Name' la: \", D.get('Name'))\n",
        "\n",
        "print(\"Kiểm tra dictionary có key như trong tham số hay không\")\n",
        "print(\"Age\" in D)\n",
        "\n",
        "D2 = {'P': 'Phuong'}\n",
        "print(\" Thêm D2 vào D\")\n",
        "print(D.update(D2))\n",
        "\n"
      ],
      "execution_count": null,
      "outputs": []
    },
    {
      "cell_type": "markdown",
      "metadata": {
        "id": "axycMmJ3lK1r"
      },
      "source": [
        "#SET\n"
      ]
    },
    {
      "cell_type": "code",
      "metadata": {
        "id": "eqfn7IzPkxct"
      },
      "source": [
        "Set1 = set([\"a\", \"b\", \"c\"])\n",
        "print(\"Set1: \")\n",
        "print(Set1)\n",
        "\n",
        "Set1.add(\"d\")\n",
        "print(\"\\nSet1 after adding: \")\n",
        "print(Set1)"
      ],
      "execution_count": null,
      "outputs": []
    },
    {
      "cell_type": "code",
      "metadata": {
        "id": "YddMAQLolNOZ"
      },
      "source": [
        "people = {\"Jay\", \"Idrish\", \"Archi\"}\n",
        "print(\"People: \")\n",
        "print(people)\n",
        "\n",
        "people.add(\"Daxit\")\n",
        "print(\"\\nSet after adding element:\", end = \" \")\n",
        "print(people)"
      ],
      "execution_count": null,
      "outputs": []
    },
    {
      "cell_type": "code",
      "metadata": {
        "id": "SkF6pAW5lR5j"
      },
      "source": [
        "Days=set([\"Mon\",\"Tue\",\"Wed\",\"Thu\",\"Fri\",\"Sat\"])\n",
        "Days.discard(\"Sun\")\n",
        "print(Days)"
      ],
      "execution_count": null,
      "outputs": []
    },
    {
      "cell_type": "code",
      "metadata": {
        "id": "zKMZ97NXliNW"
      },
      "source": [
        "set1 = {1,2,3,4,5,6}\n",
        "print(\"Initial set\")\n",
        "print(set1)\n",
        "\n",
        "set1.clear()\n",
        "print(\"\\nSet after using clear() function\")\n",
        "print(set1)"
      ],
      "execution_count": null,
      "outputs": []
    },
    {
      "cell_type": "code",
      "metadata": {
        "id": "14Z-7gb4lnHL"
      },
      "source": [
        "#phép hợp\n",
        "people = {\"Jay\", \"Idrish\", \"Archil\"}\n",
        "vampires = {\"Karan\", \"Arjun\"}\n",
        "dracula = {\"Deepanshu\", \"Raju\"}\n",
        "# Union using union() function\n",
        "population = people.union(vampires)\n",
        "print(\"Union using union() function\")\n",
        "print(population)\n",
        "# Union using \"|\" operator\n",
        "population = people|dracula\n",
        "print(\"\\nUnion using '|' operator\")\n",
        "print(population)"
      ],
      "execution_count": null,
      "outputs": []
    },
    {
      "cell_type": "code",
      "metadata": {
        "id": "29mGp7hNl92v"
      },
      "source": [
        "#phép giao\n",
        "set1 = {3, 4, 5}\n",
        "set2 = {3, 4, 5, 6, 7, 8}\n",
        "set3 = set1.intersection(set2)\n",
        "print(\"Giao giữa set 1 và 2 là:\")\n",
        "print(set3)\n",
        "\n",
        "set3 = set1 & set2\n",
        "print(\"\\nIntersection using '&' operator\")\n",
        "print(set3)"
      ],
      "execution_count": null,
      "outputs": []
    },
    {
      "cell_type": "code",
      "metadata": {
        "id": "9leEhLiOmEgx"
      },
      "source": [
        "#phép hiệu\n",
        "set1 = {3, 4, 5, 9}\n",
        "set2 = {3, 4, 5, 6, 7, 8}\n",
        "\n",
        "set3 = set1.difference(set2)\n",
        "print(\" Phần tử của set 1 khác set 2 là\")\n",
        "print(set3)\n",
        "# Difference of two sets using '-' operator\n",
        "set3 = set1 - set2\n",
        "print(\"\\nDifference of two sets using '-' operator\")\n",
        "print(set3)"
      ],
      "execution_count": null,
      "outputs": []
    },
    {
      "cell_type": "code",
      "metadata": {
        "id": "4u3AhOQ7mUFB"
      },
      "source": [
        "#kiểm tra tập con\n",
        "DaysA = set([\"Mon\",\"Tue\",\"Wed\"])\n",
        "DaysB = set([\"Mon\",\"Tue\",\"Wed\",\"Thu\",\"Fri\",\"Sat\",\"Sun\"])\n",
        "SubsetRes = DaysA <= DaysB\n",
        "SupersetRes = DaysB >= DaysA\n",
        "print(SubsetRes)\n",
        "print(SupersetRes)"
      ],
      "execution_count": null,
      "outputs": []
    },
    {
      "cell_type": "markdown",
      "metadata": {
        "id": "w9OWAPgjmg0h"
      },
      "source": [
        "# DATE & TIME\n",
        "\n"
      ]
    },
    {
      "cell_type": "code",
      "metadata": {
        "id": "1S6bR7-TmXyD"
      },
      "source": [
        "#xem thời gian hiện tại\n",
        "import time\n",
        "ticks = time.time()\n",
        "print(\"Number of ticks since 12:00am, January 1, 1970:\", ticks)\n",
        "#Number of ticks since 12:00am, January 1, 1970: 7186862.73399\n",
        "localtime = time.localtime(time.time())\n",
        "print(\"Local current time :\", localtime)"
      ],
      "execution_count": null,
      "outputs": []
    },
    {
      "cell_type": "code",
      "metadata": {
        "id": "FMt-uflumzEA"
      },
      "source": [
        "#định dạnh thời gian\n",
        "import time;\n",
        "localtime = time.asctime( time.localtime(time.time()) )\n",
        "print(\"Local current time :\", localtime)"
      ],
      "execution_count": null,
      "outputs": []
    },
    {
      "cell_type": "code",
      "metadata": {
        "id": "6KU9YAJ5nMju"
      },
      "source": [
        "#Lịch\n",
        "import calendar\n",
        "cal = calendar.month(2003, 9)\n",
        "print(\"Tháng Thu Phương sinh ra nè he:\")\n",
        "print(cal)"
      ],
      "execution_count": null,
      "outputs": []
    },
    {
      "cell_type": "code",
      "metadata": {
        "id": "Oz9-jYWNsOnY"
      },
      "source": [
        ""
      ],
      "execution_count": null,
      "outputs": []
    }
  ]
}