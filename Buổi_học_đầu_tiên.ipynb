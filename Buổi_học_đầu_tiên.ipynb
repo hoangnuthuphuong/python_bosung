{
  "nbformat": 4,
  "nbformat_minor": 0,
  "metadata": {
    "colab": {
      "name": "Buổi học đầu tiên",
      "private_outputs": true,
      "provenance": [],
      "authorship_tag": "ABX9TyMtfdGIpCF5+gv/O67kVwub",
      "include_colab_link": true
    },
    "kernelspec": {
      "name": "python3",
      "display_name": "Python 3"
    },
    "language_info": {
      "name": "python"
    }
  },
  "cells": [
    {
      "cell_type": "markdown",
      "metadata": {
        "id": "view-in-github",
        "colab_type": "text"
      },
      "source": [
        "<a href=\"https://colab.research.google.com/github/hoangnuthuphuong/hoangnuthuphuong/blob/main/Bu%E1%BB%95i_h%E1%BB%8Dc_%C4%91%E1%BA%A7u_ti%C3%AAn.ipynb\" target=\"_parent\"><img src=\"https://colab.research.google.com/assets/colab-badge.svg\" alt=\"Open In Colab\"/></a>"
      ]
    },
    {
      "cell_type": "code",
      "metadata": {
        "id": "dgIRjkh9iK6z"
      },
      "source": [
        "print(\"Phương đáng yêu\")"
      ],
      "execution_count": null,
      "outputs": []
    }
  ]
}