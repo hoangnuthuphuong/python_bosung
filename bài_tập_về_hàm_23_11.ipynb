{
  "nbformat": 4,
  "nbformat_minor": 0,
  "metadata": {
    "colab": {
      "name": "bài tập về hàm_23/11",
      "private_outputs": true,
      "provenance": [],
      "authorship_tag": "ABX9TyNsbeI/ZjbW2femGl9BmDjG",
      "include_colab_link": true
    },
    "kernelspec": {
      "name": "python3",
      "display_name": "Python 3"
    },
    "language_info": {
      "name": "python"
    }
  },
  "cells": [
    {
      "cell_type": "markdown",
      "metadata": {
        "id": "view-in-github",
        "colab_type": "text"
      },
      "source": [
        "<a href=\"https://colab.research.google.com/github/hoangnuthuphuong/python_bosung/blob/main/b%C3%A0i_t%E1%BA%ADp_v%E1%BB%81_h%C3%A0m_23_11.ipynb\" target=\"_parent\"><img src=\"https://colab.research.google.com/assets/colab-badge.svg\" alt=\"Open In Colab\"/></a>"
      ]
    },
    {
      "cell_type": "markdown",
      "metadata": {
        "id": "_l4iC8fYazA5"
      },
      "source": [
        "#Bài 1: Hãy xây dựng một hàm thực hiện các yêu cầu sau:\n",
        "- Xuất ra màn hình câu thông báo: “Lập trình Java 2021”\n",
        "- Hàm không có giá trị trả về"
      ]
    },
    {
      "cell_type": "code",
      "metadata": {
        "id": "ozIRprPrXl45"
      },
      "source": [
        "def ham():\n",
        "  print(\"lập trình java 2021\")\n",
        "ham()\n",
        "\n",
        "\n",
        "\n"
      ],
      "execution_count": null,
      "outputs": []
    },
    {
      "cell_type": "markdown",
      "metadata": {
        "id": "-PilChzCarFY"
      },
      "source": [
        "#Bài 2: Hãy xây dựng một hàm thực hiện các yêu cầu sau:\n",
        "- Nhận một tham số đầu vào là một chuỗi ký tự (kiểu String)\n",
        "- Xuất ra màn hình nội dung chuỗi được truyền vào từ tham số\n",
        "- Hàm không có giá trị trả về"
      ]
    },
    {
      "cell_type": "code",
      "metadata": {
        "id": "bQ5eQGDPatGv"
      },
      "source": [
        "def inrachuoi(chuoi):\n",
        "    print(chuoi)\n",
        "inrachuoi('hiihih...')"
      ],
      "execution_count": null,
      "outputs": []
    },
    {
      "cell_type": "markdown",
      "metadata": {
        "id": "uJEUfmqtalbH"
      },
      "source": [
        "#Bài 3: Hãy viết chương trình thực hiện các yêu cầu sau:\n",
        "- Nhập một số nguyên dương n từ bàn phím (kiểm tra nếu không đạt yêu cầu thì bắt nhập\n",
        "lại)\n",
        "- Nhập một thông điệp từ bàn phím\n",
        "- Gọi thực hiện hàm ở Bài 2 n lần với thông điệp được truyền làm tham số đầu vào của hàm."
      ]
    },
    {
      "cell_type": "code",
      "metadata": {
        "id": "DnTutS3n0QEq"
      },
      "source": [
        "def nhapn():\n",
        "    n=int(input('Nhập số nguyên dương n: '))\n",
        "    if(n<0):\n",
        "        nhapn()\n",
        "    return n\n",
        "def inthongdiep(chuoi):\n",
        "    print(chuoi)\n",
        "def main():\n",
        "    m=nhapn()\n",
        "    thongdiep=input(\"nhập thông điệp: \")\n",
        "    for i in range(1,m+1):\n",
        "        inthongdiep(thongdiep)\n",
        "if __name__ == '__main__':\n",
        "    main()"
      ],
      "execution_count": null,
      "outputs": []
    },
    {
      "cell_type": "markdown",
      "metadata": {
        "id": "YSciZal5e8u8"
      },
      "source": [
        "#Bài 4: Hãy viết chương trình thực hiện các yêu cầu sau:\n",
        "- Xây dựng hàm giải phương trình bậc 1 (ax + b = 0), với hệ số a & b được truyền vào qua\n",
        "thông số của hàm.\n",
        "- Chương trình chính nhận các thông số a, b từ bàn phím\n",
        "- Chương trình chính gọi hàm giải phương trình bậc 1 nêu trên"
      ]
    },
    {
      "cell_type": "code",
      "metadata": {
        "id": "XLf8UvJLagqC"
      },
      "source": [
        "def phuongtrinhbac1(a,b):\n",
        "  if a == 0:\n",
        "    if b == 0:\n",
        "     print(\"Vô số nghiệm\")\n",
        "    else:\n",
        "     print(\"Vô nghiệm\")\n",
        "  else:\n",
        "    print(\"Phương trình có nghiệm x =\", -b/a)\n",
        "a = float(input(\"Nhập a: \"))\n",
        "b = float(input(\"Nhập b: \"))\n",
        "phuongtrinhbac1(a,b)"
      ],
      "execution_count": null,
      "outputs": []
    },
    {
      "cell_type": "markdown",
      "metadata": {
        "id": "ScT9J_IEZvtP"
      },
      "source": [
        "#Bài 5: Hãy viết chương trình thực hiện các yêu cầu sau:\n",
        "- Xây dựng hàm giải phương trình bậc (ax2 + bx + c = 0), với hệ số a & b & c được truyền\n",
        "vào qua thông số của hàm.\n",
        "- Chương trình chính nhận các thông số a, b & c từ bàn phím\n",
        "- Chương trình chính gọi hàm giải phương trình bậc 2 nêu trên"
      ]
    },
    {
      "cell_type": "code",
      "metadata": {
        "id": "8ZNIIDf1Z0gW"
      },
      "source": [
        "from math import sqrt\n",
        "\n",
        "def phuongtrinhbac2(a,b,c):\n",
        "  if a == 0:\n",
        "      if b == 0:\n",
        "          if c == 0:\n",
        "              print(\" vô số nghiệm!\")\n",
        "          else:\n",
        "              print(\" vô nghiệm!\")\n",
        "      else:\n",
        "          if c == 0:\n",
        "              print(\"có 1 nghiệm x = 0\")\n",
        "          else:\n",
        "              print(\"có 1 nghiệm x = \", -c/b)\n",
        "  else:\n",
        "      delta = b ** 2 - 4 * a * c\n",
        "      if delta < 0:\n",
        "          print(\" vô nghiệm\")\n",
        "      elif delta == 0:\n",
        "          print(\"phương trình có 1 nghiệm x = \", -b/(2*a))\n",
        "      else:\n",
        "          print(\"phương trình có 2 nghiệm phân biệt\")\n",
        "          print(\"x1 = \", float((-b - sqrt(delta)) / (2*a)))\n",
        "          print(\"x2 = \", float((-b + sqrt(delta)) / (2*a)))\n",
        "a = float(input(\"Nhập a: \"))\n",
        "b = float(input(\"Nhập b: \"))\n",
        "c = float(input(\"Nhập c: \"))\n",
        "phuongtrinhbac2(a,b,c)"
      ],
      "execution_count": null,
      "outputs": []
    },
    {
      "cell_type": "markdown",
      "metadata": {
        "id": "hMIELV82Zf4r"
      },
      "source": [
        "#Bài 6: Hãy viết chương trình thực hiện các yêu cầu sau:\n",
        "\n",
        "- Cho người dùng lựa chọn giải phương trình bậc 1 hay bậc 2 bằng cách nhập số (1 hay 2)\n",
        "từ bàn phím\n",
        "- Nếu người dùng chọn giải phương trình bậc 1, thì thực hiện các bước như Bài 4\n",
        "- Nếu người dùng chọn giải phương trình bậc 2, thì thực hiện các bước như Bài 5"
      ]
    },
    {
      "cell_type": "code",
      "metadata": {
        "id": "Hm81X5B0quIJ"
      },
      "source": [
        "chon=int(input(\"Chọn giải phương trình bậc mấy? (1 or 2) \"))\n",
        "if chon==1: \n",
        "  a = float(input(\"Nhập a: \"))\n",
        "  b = float(input(\"Nhập b: \"))\n",
        "  phuongtrinhbac1(a,b)\n",
        "else:\n",
        "  a = float(input(\"Nhập a: \"))\n",
        "  b = float(input(\"Nhập b: \"))\n",
        "  c = float(input(\"Nhập c: \"))\n",
        "  phuongtrinhbac2(a,b,c)\n",
        "\n"
      ],
      "execution_count": null,
      "outputs": []
    },
    {
      "cell_type": "markdown",
      "metadata": {
        "id": "rUr_cTQfZYjd"
      },
      "source": [
        "#Bài 7: Viết chương trình thực hiện các yêu cầu sau:\n",
        "- Thực hiện yêu cầu như bài 6\n",
        "- Sau khi thực hiện xong cho người dùng lựa chọn tiếp tục thực hiện lại hay kết thúc chương\n",
        "trình"
      ]
    },
    {
      "cell_type": "code",
      "metadata": {
        "id": "WBXWSKjGZX9F"
      },
      "source": [
        "chon=int(input(\"Chọn giải phương trình bậc mấy? (1 or 2) \"))\n",
        "if chon==1: \n",
        "  a = float(input(\"Nhập a: \"))\n",
        "  b = float(input(\"Nhập b: \"))\n",
        "  phuongtrinhbac1(a,b)\n",
        "else:\n",
        "  a = float(input(\"Nhập a: \"))\n",
        "  b = float(input(\"Nhập b: \"))\n",
        "  c = float(input(\"Nhập c: \"))\n",
        "  phuongtrinhbac2(a,b,c)\n",
        "def tieptuc():\n",
        "    print('Bạn có muốn tiếp tục tính toán')\n",
        "    print('Nhập Yes để tiếp tục\\nNhập No để dừng lại')\n",
        "    YoN= input('Yes or No ').upper()\n",
        "    if YoN == 'YES':\n",
        "        main()\n",
        "    else:\n",
        "        pass\n",
        "tieptuc()"
      ],
      "execution_count": null,
      "outputs": []
    }
  ]
}