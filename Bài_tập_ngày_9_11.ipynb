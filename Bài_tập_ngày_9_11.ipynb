{
  "nbformat": 4,
  "nbformat_minor": 0,
  "metadata": {
    "colab": {
      "name": "Bài tập ngày 9/11",
      "private_outputs": true,
      "provenance": [],
      "authorship_tag": "ABX9TyP0nw1UBBDTIAFAehutxAdb",
      "include_colab_link": true
    },
    "kernelspec": {
      "name": "python3",
      "display_name": "Python 3"
    },
    "language_info": {
      "name": "python"
    }
  },
  "cells": [
    {
      "cell_type": "markdown",
      "metadata": {
        "id": "view-in-github",
        "colab_type": "text"
      },
      "source": [
        "<a href=\"https://colab.research.google.com/github/hoangnuthuphuong/python_bosung/blob/main/B%C3%A0i_t%E1%BA%ADp_ng%C3%A0y_9_11.ipynb\" target=\"_parent\"><img src=\"https://colab.research.google.com/assets/colab-badge.svg\" alt=\"Open In Colab\"/></a>"
      ]
    },
    {
      "cell_type": "code",
      "metadata": {
        "id": "KdYgidgBd_XN"
      },
      "source": [
        "print(\"Tuân thủ nguyên tắc 5K để phòng chống COVID\")"
      ],
      "execution_count": null,
      "outputs": []
    }
  ]
}