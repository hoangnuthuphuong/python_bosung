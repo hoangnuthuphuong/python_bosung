{
  "nbformat": 4,
  "nbformat_minor": 0,
  "metadata": {
    "colab": {
      "name": "XeMay",
      "private_outputs": true,
      "provenance": [],
      "authorship_tag": "ABX9TyMn7YAbi2I28HpkntspUV7c",
      "include_colab_link": true
    },
    "kernelspec": {
      "name": "python3",
      "display_name": "Python 3"
    },
    "language_info": {
      "name": "python"
    }
  },
  "cells": [
    {
      "cell_type": "markdown",
      "metadata": {
        "id": "view-in-github",
        "colab_type": "text"
      },
      "source": [
        "<a href=\"https://colab.research.google.com/github/hoangnuthuphuong/python_bosung/blob/main/XeMay.ipynb\" target=\"_parent\"><img src=\"https://colab.research.google.com/assets/colab-badge.svg\" alt=\"Open In Colab\"/></a>"
      ]
    },
    {
      "cell_type": "code",
      "metadata": {
        "id": "TqB7yjPJR4Xo"
      },
      "source": [
        "class Xemay():\n",
        "  phankhoi: int\n",
        "  tenxe: str\n",
        "  xuatxu: str\n",
        "\n",
        "  def __init__(self, cubic_meter, name, origin):\n",
        "    self.phankhoi = cubic_meter\n",
        "    self.tenxe = name\n",
        "    self.xuatxu = origin\n",
        "\n",
        "  def outputXemay(self) -> str:\n",
        "    result = \"Phan_khoi: \" + str(self.phankhoi) + \"; Ten_xe: \" + self.tenxe + \"; Xuat_xu: \" + self.xuatxu\n",
        "    return result\n",
        "\n",
        "\n",
        "def main():\n",
        "    xeA = Xemay(50, \"cub\", \"china\")\n",
        "    xeB = Xemay(100, \"SH\", \"US\")\n",
        "    xeC = Xemay(180, \"motor\", \"UK\")\n",
        "    print(xeA.outputXemay())\n",
        "    print(xeB.outputXemay())\n",
        "    print(xeC.outputXemay())\n",
        "\n",
        "if __name__== \"__main__\":\n",
        "    main()"
      ],
      "execution_count": null,
      "outputs": []
    },
    {
      "cell_type": "code",
      "metadata": {
        "id": "dDWdF6m3SMZQ"
      },
      "source": [
        ""
      ],
      "execution_count": null,
      "outputs": []
    }
  ]
}