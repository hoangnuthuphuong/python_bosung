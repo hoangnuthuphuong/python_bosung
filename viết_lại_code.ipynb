{
  "nbformat": 4,
  "nbformat_minor": 0,
  "metadata": {
    "colab": {
      "name": "viết lại code",
      "provenance": [],
      "collapsed_sections": [],
      "include_colab_link": true
    },
    "kernelspec": {
      "display_name": "Python 3",
      "name": "python3"
    }
  },
  "cells": [
    {
      "cell_type": "markdown",
      "metadata": {
        "id": "view-in-github",
        "colab_type": "text"
      },
      "source": [
        "<a href=\"https://colab.research.google.com/github/hoangnuthuphuong/python_bosung/blob/main/vi%E1%BA%BFt_l%E1%BA%A1i_code.ipynb\" target=\"_parent\"><img src=\"https://colab.research.google.com/assets/colab-badge.svg\" alt=\"Open In Colab\"/></a>"
      ]
    },
    {
      "cell_type": "code",
      "metadata": {
        "id": "hAP9lWqr0wuW"
      },
      "source": [
        "#slide 24\n",
        "for counter in range(5):\n",
        "  print(\"Hello world!!!\")\n",
        "print(\"Finished!!!\")"
      ],
      "execution_count": null,
      "outputs": []
    },
    {
      "cell_type": "code",
      "metadata": {
        "colab": {
          "base_uri": "https://localhost:8080/"
        },
        "id": "4uyQGeyE0UuT",
        "outputId": "b13bc5ea-a6db-413f-bbc8-e0fef62c463d"
      },
      "source": [
        "#slide 26_27\n",
        "import getpass\n",
        "\n",
        "flag = False\n",
        "while not flag:\n",
        "  u = input(\"Username: \")\n",
        "  p = getpass.getpass(prompt=\"Password: \")\n",
        "  check = flag\n",
        "  if u == \"peter\" and p == \"Rj@is2019\":\n",
        "    check = True\n",
        "    print(\"You logged into the system.\")\n",
        "  if u == \"peter\" and p == \"Rj@is2019\":\n",
        "    check = True\n",
        "    print(\"You logged into the system.\")\n",
        "  else:\n",
        "    print(\"Either username or password is wrong.\")\n",
        "    ch = input(\"Do you want to continue? (y/n)\")\n",
        "  if ch == \"N\" or ch == \"n\":\n",
        "    check = True\n",
        "    flag = check\n",
        "print(\"Finished!\")"
      ],
      "execution_count": 22,
      "outputs": [
        {
          "output_type": "stream",
          "name": "stdout",
          "text": [
            "Username: peter\n",
            "Password: ··········\n",
            "You logged into the system.\n",
            "You logged into the system.\n",
            "Username: phuong\n",
            "Password: ··········\n",
            "Either username or password is wrong.\n",
            "Do you want to continue? (y/n)n\n",
            "Finished!\n"
          ]
        }
      ]
    },
    {
      "cell_type": "code",
      "metadata": {
        "colab": {
          "base_uri": "https://localhost:8080/"
        },
        "id": "DzoLGzX51tqT",
        "outputId": "305b4805-470c-44e0-b7ee-87f69ce6c1e7"
      },
      "source": [
        "#slide 31-32\n",
        "import getpass\n",
        "\n",
        "flag = False\n",
        "while not flag:\n",
        "  u = input(\"Username: \")\n",
        "  p = getpass.getpass(prompt=\"Password: \")\n",
        "  flag = u == \"peter\" and p == \"Rj@is2019\"\n",
        "  if flag:\n",
        "    print(\"You logged into the system.\")\n",
        "  else:\n",
        "    print(\"Either username or password is wrong.\")\n",
        "    ch = input(\"Do you want to continue? (y/n)\")\n",
        "    flag = ch == \"N\" or ch == \"n\"\n",
        "print(\"Finished!\")"
      ],
      "execution_count": 21,
      "outputs": [
        {
          "output_type": "stream",
          "name": "stdout",
          "text": [
            "Username: phuong\n",
            "Password: ··········\n",
            "Either username or password is wrong.\n",
            "Do you want to continue? (y/n)peter\n",
            "Username: Rj@is2019\n",
            "Password: ··········\n",
            "Either username or password is wrong.\n",
            "Do you want to continue? (y/n)y\n",
            "Username: peter\n",
            "Password: ··········\n",
            "You logged into the system.\n",
            "Finished!\n"
          ]
        }
      ]
    },
    {
      "cell_type": "markdown",
      "metadata": {
        "id": "S8Xej_f63ZnV"
      },
      "source": [
        "#slide tiếng anh\n"
      ]
    },
    {
      "cell_type": "code",
      "metadata": {
        "colab": {
          "base_uri": "https://localhost:8080/"
        },
        "id": "MZWI_0jS0bnM",
        "outputId": "09f4a813-9d7e-44c2-a177-73801f25a081"
      },
      "source": [
        "#24\n",
        "for num in [1, 2, 3, 4, 5]:\n",
        "  print(num)"
      ],
      "execution_count": 23,
      "outputs": [
        {
          "output_type": "stream",
          "name": "stdout",
          "text": [
            "1\n",
            "2\n",
            "3\n",
            "4\n",
            "5\n"
          ]
        }
      ]
    },
    {
      "cell_type": "code",
      "metadata": {
        "colab": {
          "base_uri": "https://localhost:8080/"
        },
        "id": "C8KQ8QE65Ukf",
        "outputId": "86ae2187-a85f-4294-eccf-fd8b45280c44"
      },
      "source": [
        "#26\n",
        "for i in range(4):\n",
        "  print(i)\n"
      ],
      "execution_count": 24,
      "outputs": [
        {
          "output_type": "stream",
          "name": "stdout",
          "text": [
            "0\n",
            "1\n",
            "2\n",
            "3\n"
          ]
        }
      ]
    },
    {
      "cell_type": "code",
      "metadata": {
        "colab": {
          "base_uri": "https://localhost:8080/"
        },
        "id": "Gl6NGMWC5SV0",
        "outputId": "9c255ae8-f142-47ff-862e-af3cb768b5e5"
      },
      "source": [
        "#28\n",
        "for v in range(4, 8):\n",
        "  print(v)"
      ],
      "execution_count": 25,
      "outputs": [
        {
          "output_type": "stream",
          "name": "stdout",
          "text": [
            "4\n",
            "5\n",
            "6\n",
            "7\n"
          ]
        }
      ]
    },
    {
      "cell_type": "code",
      "metadata": {
        "colab": {
          "base_uri": "https://localhost:8080/"
        },
        "id": "LTM2kDWe5QSh",
        "outputId": "04cb105e-54b1-4931-c414-208fa78a9c5f"
      },
      "source": [
        "#29\n",
        "for v in range(3, 9, 2):\n",
        "  print(v)"
      ],
      "execution_count": 26,
      "outputs": [
        {
          "output_type": "stream",
          "name": "stdout",
          "text": [
            "3\n",
            "5\n",
            "7\n"
          ]
        }
      ]
    },
    {
      "cell_type": "code",
      "metadata": {
        "colab": {
          "base_uri": "https://localhost:8080/"
        },
        "id": "8vkP7zhz5OC4",
        "outputId": "51abf8f8-fdb8-4d32-a9cf-a56c454a2713"
      },
      "source": [
        "#31\n",
        "for v in range(5, 1, -1):\n",
        "  print(v)\n"
      ],
      "execution_count": 27,
      "outputs": [
        {
          "output_type": "stream",
          "name": "stdout",
          "text": [
            "5\n",
            "4\n",
            "3\n",
            "2\n"
          ]
        }
      ]
    },
    {
      "cell_type": "code",
      "metadata": {
        "colab": {
          "base_uri": "https://localhost:8080/"
        },
        "id": "q_aG3iKQ5Ltg",
        "outputId": "9eb6249f-dd4e-44d4-bc60-885a614065a6"
      },
      "source": [
        "#32\n",
        "for i in range(1, 5):\n",
        "  for j in range(1,4):\n",
        "    print(\"i=\",i,\"j=\",j)"
      ],
      "execution_count": 30,
      "outputs": [
        {
          "output_type": "stream",
          "name": "stdout",
          "text": [
            "i= 1 j= 1\n",
            "i= 1 j= 2\n",
            "i= 1 j= 3\n",
            "i= 2 j= 1\n",
            "i= 2 j= 2\n",
            "i= 2 j= 3\n",
            "i= 3 j= 1\n",
            "i= 3 j= 2\n",
            "i= 3 j= 3\n",
            "i= 4 j= 1\n",
            "i= 4 j= 2\n",
            "i= 4 j= 3\n"
          ]
        }
      ]
    },
    {
      "cell_type": "code",
      "metadata": {
        "id": "WEvDTWaL53Bd"
      },
      "source": [
        ""
      ],
      "execution_count": null,
      "outputs": []
    }
  ]
}