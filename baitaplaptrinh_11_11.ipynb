{
  "nbformat": 4,
  "nbformat_minor": 0,
  "metadata": {
    "colab": {
      "name": "baitaplaptrinh_11/11",
      "private_outputs": true,
      "provenance": [],
      "authorship_tag": "ABX9TyOX5CxbsdcDxqA9EDNxveN0",
      "include_colab_link": true
    },
    "kernelspec": {
      "name": "python3",
      "display_name": "Python 3"
    },
    "language_info": {
      "name": "python"
    }
  },
  "cells": [
    {
      "cell_type": "markdown",
      "metadata": {
        "id": "view-in-github",
        "colab_type": "text"
      },
      "source": [
        "<a href=\"https://colab.research.google.com/github/hoangnuthuphuong/python_bosung/blob/main/baitaplaptrinh_11_11.ipynb\" target=\"_parent\"><img src=\"https://colab.research.google.com/assets/colab-badge.svg\" alt=\"Open In Colab\"/></a>"
      ]
    },
    {
      "cell_type": "markdown",
      "metadata": {
        "id": "rUNT0SjRlq8o"
      },
      "source": [
        "#BÀI 1: Lập trình nhập vào từ bàn phím 2 số nguyên và tính:\n",
        "1.Tổng của 2 số\n",
        "\n",
        "2.Tích của 2 số\n",
        "\n",
        "3.Hiệu của 2 số\n",
        "\n",
        "4.Phép chia lấy phần nguyên của 2 số\n",
        "\n",
        "5.Phép chia lấy phần dư của 2 số"
      ]
    },
    {
      "cell_type": "code",
      "metadata": {
        "id": "OyuU8G3ViZ0_"
      },
      "source": [
        "a = int(input('a='))\n",
        "b = int(input('b='))\n",
        "# tổng hai số\n",
        "c = a + b\n",
        "print('a+b=', c)\n",
        "# tích hai số\n",
        "d = a * b\n",
        "print('a*b=', d)\n",
        "# hiệu hai số\n",
        "e = a - b\n",
        "print('a-b=', e)\n",
        "# phép chia lấy phần nguyên của hai số\n",
        "f = a // b\n",
        "print('phần nguyên của a/b = ', f)\n",
        "# phép chia lấy phần dư của hai số\n",
        "g = a % b\n",
        "print('phần dư của a/b =', g)"
      ],
      "execution_count": null,
      "outputs": []
    },
    {
      "cell_type": "markdown",
      "metadata": {
        "id": "3iugbnD6lvt3"
      },
      "source": [
        "# BÀI 2:Lập trình nhập vào từ bàn phím 2 số thực và tính\n",
        "\n",
        "\n",
        "\n",
        "1.Tổng của 2 số\n",
        "\n",
        "2.Tích của 2 số\n",
        "\n",
        "3.Hiệu của 2 số\n",
        "\n",
        "4.Thương của 2 số\n",
        "\n"
      ]
    },
    {
      "cell_type": "code",
      "metadata": {
        "id": "cs1LQNjsi3V2"
      },
      "source": [
        "a = float(input('a='))\n",
        "b = float(input('b='))\n",
        "# tổng hai số\n",
        "c = a + b\n",
        "print('a+b=', c)\n",
        "# tích hai số\n",
        "d = a * b\n",
        "print('a*b=', d)\n",
        "# hiệu hai số\n",
        "e = a - b\n",
        "print('a-b=', e)\n",
        "# thương hai số\n",
        "f = a / b\n",
        "print('a/b=', f)"
      ],
      "execution_count": null,
      "outputs": []
    },
    {
      "cell_type": "markdown",
      "metadata": {
        "id": "O-syN-IQndym"
      },
      "source": [
        "# BÀI 3; Nhập một số từ bàn phím và tính\n",
        "1.Trị tuyệt đối\n",
        "\n",
        "2.Lấy phần nguyên của số\n",
        "\n",
        "3.Chuyển đổi thành số thực\n",
        "\n",
        "4.(Nhập thêm 1 số từ bàn phím) và tính lũy thừa  xy \n",
        "\n",
        "5.Tính căn bậc hai\n",
        "\n"
      ]
    },
    {
      "cell_type": "code",
      "metadata": {
        "id": "jz4hmvBgm_-0"
      },
      "source": [
        "import math\n",
        "a = float(input('a='))\n",
        "print('trị tuyệt đối của a=',math.fabs(a))\n",
        "print('phần nguyên của a=', int(a))\n",
        "\n",
        "b = int(input('b='))\n",
        "print(a, 'lũy thừa', b, '= ',math.pow(a, b))\n",
        "if a <= 0:\n",
        "    print('căn bậc hai của trị tuyệt đối a=',math.fabs(a)*0.5)\n",
        "else:\n",
        "    print('căn bậc hai của a=',math.sqrt(a))\n"
      ],
      "execution_count": null,
      "outputs": []
    },
    {
      "cell_type": "markdown",
      "metadata": {
        "id": "Pk6NUskNu13H"
      },
      "source": [
        "# BÀI 4: Nhập 2 số từ bàn phím và thực hiện các phép so sánh sau giữa 2 số\n"
      ]
    },
    {
      "cell_type": "code",
      "metadata": {
        "id": "iPETwW0ap0y1"
      },
      "source": [
        "x=float(input('a='))\n",
        "y=float(input('b='))\n",
        "print(\"x >= y\",x >= y)\n",
        "print(\"x <= y\",x <= y)\n",
        "print(\"x > y\",x > y)\n",
        "print(\"x < y\",x < y)\n",
        "print(\"x != y\",x != y)"
      ],
      "execution_count": null,
      "outputs": []
    },
    {
      "cell_type": "markdown",
      "metadata": {
        "id": "TocR5XuH-fCx"
      },
      "source": [
        "# BÀI 5: Nhập 1 chuỗi kí tự từ bàn phím\n",
        "\n",
        "\n",
        "1.Chuyển thành chuỗi in hoa\n",
        "\n",
        "2.Chuyển thành chuỗi in thường\n"
      ]
    },
    {
      "cell_type": "code",
      "metadata": {
        "id": "6DYRLfxK-pAt"
      },
      "source": [
        " print(input('nhập chuỗi kí tự cần in hoa: ').upper())\n",
        " print(input('nhập chuỗi kí tự cần in thường: ').lower())\n"
      ],
      "execution_count": null,
      "outputs": []
    },
    {
      "cell_type": "markdown",
      "metadata": {
        "id": "WJfL9a_GBHK3"
      },
      "source": [
        "# BÀI 6: Xuất ra màn hình 1 chuỗi ký tự nằm trên nhiều hàng"
      ]
    },
    {
      "cell_type": "code",
      "metadata": {
        "id": "51hHEwU6_eec"
      },
      "source": [
        "song=' Sóng bắt đầu từ gió\\n Gió bắt đầu từ đâu??\\n Em cũng không biết nữa\\n Từ khi nào ta yêu nhau?!!\\n hihi'\n",
        "print(song)"
      ],
      "execution_count": null,
      "outputs": []
    },
    {
      "cell_type": "code",
      "metadata": {
        "id": "vG6puUDqAtfp"
      },
      "source": [
        ""
      ],
      "execution_count": null,
      "outputs": []
    }
  ]
}