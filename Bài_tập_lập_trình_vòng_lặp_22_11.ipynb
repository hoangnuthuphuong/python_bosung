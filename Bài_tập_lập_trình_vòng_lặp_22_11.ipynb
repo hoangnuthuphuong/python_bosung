{
  "nbformat": 4,
  "nbformat_minor": 0,
  "metadata": {
    "colab": {
      "name": "Bài tập lập trình vòng lặp_22/11",
      "private_outputs": true,
      "provenance": [],
      "authorship_tag": "ABX9TyPOWAoq7mhj77wuLSv67wQT",
      "include_colab_link": true
    },
    "kernelspec": {
      "name": "python3",
      "display_name": "Python 3"
    },
    "language_info": {
      "name": "python"
    }
  },
  "cells": [
    {
      "cell_type": "markdown",
      "metadata": {
        "id": "view-in-github",
        "colab_type": "text"
      },
      "source": [
        "<a href=\"https://colab.research.google.com/github/hoangnuthuphuong/python_bosung/blob/main/B%C3%A0i_t%E1%BA%ADp_l%E1%BA%ADp_tr%C3%ACnh_v%C3%B2ng_l%E1%BA%B7p_22_11.ipynb\" target=\"_parent\"><img src=\"https://colab.research.google.com/assets/colab-badge.svg\" alt=\"Open In Colab\"/></a>"
      ]
    },
    {
      "cell_type": "markdown",
      "metadata": {
        "id": "B2l-H-rqQ1zG"
      },
      "source": [
        "#bài 1\n",
        "Viết chương trình tìm tất cả các số chia hết cho 7 nhưng không phải bội số của 5, nằm trong\n",
        "đoạn 10 và 200 (tính cả 10 và 200). Các số thu được sẽ được in ra màn hình."
      ]
    },
    {
      "cell_type": "code",
      "metadata": {
        "id": "nY077eVkP1qh"
      },
      "source": [
        "list = []\n",
        "for i in range(10, 201):\n",
        "    if (i % 7 == 0) and (i % 5 != 0):\n",
        "        list.append(str(i))\n",
        "print (', '.join(list))\n",
        "\n"
      ],
      "execution_count": null,
      "outputs": []
    },
    {
      "cell_type": "markdown",
      "metadata": {
        "id": "ugiwo9y9Qj3H"
      },
      "source": [
        "#bài 2\n",
        "Viết một chương trình tính giai thừa của một số nguyên dương n. Với n được nhập từ bàn phím. Ví dụ, n = 8 thì kết quả đầu ra phải là 1234567*8 = 40320.\n"
      ]
    },
    {
      "cell_type": "code",
      "metadata": {
        "id": "wsgFbt26QfHv"
      },
      "source": [
        "n=int(input(\" Nhập số nguyên dương: \")) \n",
        "if n<=0:\n",
        "   n=int(input(\"Nhập lại số nguyên dương: \"))\n",
        "i=1\n",
        "s=1\n",
        "while i <= n:\n",
        "  s=s*i\n",
        "  i+=1\n",
        "print(\"Giai thừa só cần tìm là: \",s)\n"
      ],
      "execution_count": null,
      "outputs": []
    },
    {
      "cell_type": "markdown",
      "metadata": {
        "id": "qqlQv60yQgH5"
      },
      "source": [
        "#bài 3\n",
        "Dãy số Fibonacci được định nghĩa như sau: F0 = 0, F1 = 1, F2 = 1, Fn = F(n-1) + F(n-2) với n >= 2. Ví dụ: 0, 1, 1, 2, 3, 5, 8, ... Hãy viết chương trình tìm n số Fibonacci đầu tiên với n nhập vào từ bàn phím.\n"
      ]
    },
    {
      "cell_type": "code",
      "metadata": {
        "id": "KwQ98abrQZXO"
      },
      "source": [
        "x = int(input(\"nhập số:\"))\n",
        "a, b = 0, 1\n",
        "i = 0\n",
        "if x <= 0:\n",
        "   print(\"nhập lại một số dương\")\n",
        "elif x == 1:\n",
        "   print(x)\n",
        "else:\n",
        "   print()\n",
        "   while i < x:\n",
        "       print(a)\n",
        "       s = a + b\n",
        "       a = b\n",
        "       b = s\n",
        "       i += 1"
      ],
      "execution_count": null,
      "outputs": []
    },
    {
      "cell_type": "markdown",
      "metadata": {
        "id": "UGV03OfeQWXL"
      },
      "source": [
        "#bài 4\n",
        "Viết chương trình liệt kê tất cả các số nguyên tố nhỏ hơn n. Số nguyên dương n được nhập từ bàn phím.\n"
      ]
    },
    {
      "cell_type": "code",
      "metadata": {
        "id": "q496DvPxQUyR"
      },
      "source": [
        "n=int(input(\"Nhập số nguyên: \"))\n",
        "for i in range(0,n):\n",
        "  if i>1:\n",
        "   for j in range(2,i):\n",
        "      if i%j==0 :\n",
        "        break\n",
        "   else:\n",
        "     print(i, end=\" \")"
      ],
      "execution_count": null,
      "outputs": []
    },
    {
      "cell_type": "markdown",
      "metadata": {
        "id": "thGzNFzmQSJW"
      },
      "source": [
        "#bài 5\n",
        "Viết chương trình liệt kê n số nguyên tố đầu tiên . Số nguyên dương n được nhập từ bàn phím.\n"
      ]
    },
    {
      "cell_type": "code",
      "metadata": {
        "id": "_lLwmyxKQQz_"
      },
      "source": [
        "import math\n",
        "\n",
        "phuong = []\n",
        "n = int(input(\"Nhập bao nhiêu số nguyên tố cần in ra: \"))\n",
        "while (n < 0):\n",
        "  print(\"Nhập lại số lớn hơn 0\")\n",
        "  n = int(input(\"Nhập bao nhiêu số nguyên tố cần in ra: \"))\n",
        "num = 1\n",
        "count = 0\n",
        "while (count < n):\n",
        "    cus = 2\n",
        "    flag = 0\n",
        "    while (cus <= math.sqrt(num)):\n",
        "        if ((num % cus) == 0):\n",
        "            flag =  1\n",
        "        cus = cus + 1\n",
        "    if (flag == 0 and num != 1):\n",
        "        list1.append(num)\n",
        "        count += 1\n",
        "    num += 1\n",
        "\n",
        "if(count > 0):\n",
        "    print(\"Các số nguyên tố là: \", phuong)\n",
        "else:\n",
        "    print(\"Không có số nguyên tố nào\")"
      ],
      "execution_count": null,
      "outputs": []
    },
    {
      "cell_type": "markdown",
      "metadata": {
        "id": "dv1ezTmCQJrv"
      },
      "source": [
        "#bài 6\n",
        "Viết chương trình liệt kê tất cả số nguyên tố có 5 chữ số.\n"
      ]
    },
    {
      "cell_type": "code",
      "metadata": {
        "id": "10bwkQiyQHiP"
      },
      "source": [
        "import math\n",
        "\n",
        "phuong = []\n",
        "n = 10001\n",
        "while (n< 100000):\n",
        "    flag = 0\n",
        "    tmp = 2\n",
        "    while (tmp <= math.sqrt(n)):\n",
        "        if ((n % tmp) == 0):\n",
        "            flag = 1\n",
        "        tmp = tmp + 1\n",
        "    if (flag == 0 and n != 1):\n",
        "        phuong.append(n)\n",
        "    n += 1\n",
        "\n",
        "print(\"Các số nguyên tố có 5 chữ số là :\", phuong)"
      ],
      "execution_count": null,
      "outputs": []
    },
    {
      "cell_type": "markdown",
      "metadata": {
        "id": "Ba9hP1nSQELx"
      },
      "source": [
        "#bài 7\n",
        "Viết chương trình tính tổng của các chữ số của môt số nguyên n. Số nguyên dương n được nhập từ bàn phím. Ví dụ: n = 1234, tổng các chữ số: 1 + 2 + 3 + 4 = 10\n"
      ]
    },
    {
      "cell_type": "code",
      "metadata": {
        "id": "rBZl1hUhQBi9"
      },
      "source": [
        "n = int(input(\"Nhập số nguyên dương n = \"))\n",
        "s = 0\n",
        "while (n > 0):\n",
        "    s = s + n % 10\n",
        "    n = int(n / 10)\n",
        "print(\"Tổng các chữ số là\", s)"
      ],
      "execution_count": null,
      "outputs": []
    },
    {
      "cell_type": "markdown",
      "metadata": {
        "id": "TQVZjhKGP-81"
      },
      "source": [
        "#bài 8\n",
        "Viết chương trình liệt kê các số Fibonacci nhỏ hơn n là số nguyên tố. N là số nguyên dương được nhập từ bàn phím.\n"
      ]
    },
    {
      "cell_type": "code",
      "metadata": {
        "id": "7-HN1JwlP8yS"
      },
      "source": [
        "import math\n",
        "n = int(input(\"Nhập số số nguyên tố cần in ra: \"))\n",
        "list1 = []\n",
        "list2 = []\n",
        "while (n < 0):\n",
        "  print(\"Nhập lại số lớn hơn 0\")\n",
        "  n = int(input(\"Nhập số số nguyên tố cần in ra: \"))\n",
        "count, fi, se = 0, 0, 1\n",
        "while (count < n):\n",
        "  if(count <= 1):\n",
        "    t = count\n",
        "  else:\n",
        "    t = fi + se\n",
        "    fi = se\n",
        "    se = t\n",
        "  list1.append(t)\n",
        "  count += 1\n",
        "\n",
        "count = 0\n",
        "count1 = 0\n",
        "while (count < len(list1)):\n",
        "    flag = 0\n",
        "    tmp = 2\n",
        "    while (tmp <= math.sqrt(list1[count])):\n",
        "        if ((list1[count] % tmp) == 0):\n",
        "            flag = 1\n",
        "        tmp = tmp + 1\n",
        "    if (flag == 0 and list1[count] != 1 and list1[count] < n):\n",
        "        count1 += 1\n",
        "        list2.append(list1[count])\n",
        "    count += 1\n",
        "\n",
        "print(\"Các số Fibonacci đồng thời là số nguyên tố nhỏ hơn\", n, \"là: \", list2)"
      ],
      "execution_count": null,
      "outputs": []
    },
    {
      "cell_type": "code",
      "metadata": {
        "id": "LLNi8dWJvk6f"
      },
      "source": [
        ""
      ],
      "execution_count": null,
      "outputs": []
    }
  ]
}