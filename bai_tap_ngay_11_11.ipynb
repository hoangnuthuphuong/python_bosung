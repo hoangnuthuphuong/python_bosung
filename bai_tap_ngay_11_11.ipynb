{
  "nbformat": 4,
  "nbformat_minor": 0,
  "metadata": {
    "colab": {
      "name": "bai_tap_ngay_11/11",
      "private_outputs": true,
      "provenance": [],
      "authorship_tag": "ABX9TyNxb5EG8kYpujGTuToBLPF3",
      "include_colab_link": true
    },
    "kernelspec": {
      "name": "python3",
      "display_name": "Python 3"
    },
    "language_info": {
      "name": "python"
    }
  },
  "cells": [
    {
      "cell_type": "markdown",
      "metadata": {
        "id": "view-in-github",
        "colab_type": "text"
      },
      "source": [
        "<a href=\"https://colab.research.google.com/github/hoangnuthuphuong/python_bosung/blob/main/bai_tap_ngay_11_11.ipynb\" target=\"_parent\"><img src=\"https://colab.research.google.com/assets/colab-badge.svg\" alt=\"Open In Colab\"/></a>"
      ]
    },
    {
      "cell_type": "markdown",
      "metadata": {
        "id": "gI-kSyknw_-f"
      },
      "source": [
        "\n",
        "# Bài 1: Tính lãi suất\n"
      ]
    },
    {
      "cell_type": "code",
      "metadata": {
        "id": "N4WVHMH3vNGS"
      },
      "source": [
        "a=float(input(\"nhập số tiền của Loan:\"))\n",
        "b=float(input(\"nhập lãi suất hàng tháng:\"))\n",
        "c=float(input(\"nhập số năm:\"))\n",
        "s=(a*b)/(1-(1/((1+b)**(c*12))))\n",
        "print(\"số tiền thanh toán hàng tháng = \",s)\n"
      ],
      "execution_count": null,
      "outputs": []
    },
    {
      "cell_type": "markdown",
      "metadata": {
        "id": "s-rWcNSGw107"
      },
      "source": [
        "\n",
        "# Bài 2: Tính khoảng cách giữa hai điểm A và B"
      ]
    },
    {
      "cell_type": "code",
      "metadata": {
        "id": "n1wzhxvzvUc6"
      },
      "source": [
        "x=float(input(\"hoành độ điểm A =\"))\n",
        "y=float(input(\"tung độ điểm A =\"))\n",
        "a=float(input(\"hoành độ điểm B =\"))\n",
        "b=float(input(\"tung độ điểm B =\"))\n",
        "d=((x-a)*(x-a)+(y-b)*(y-b))**0.5\n",
        "print(\"khoảng cách giữa A và B =\", d)"
      ],
      "execution_count": null,
      "outputs": []
    }
  ]
}