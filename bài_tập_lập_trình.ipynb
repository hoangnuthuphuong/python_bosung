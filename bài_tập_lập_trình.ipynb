{
  "nbformat": 4,
  "nbformat_minor": 0,
  "metadata": {
    "colab": {
      "name": "bài tập lập trình",
      "private_outputs": true,
      "provenance": [],
      "authorship_tag": "ABX9TyNKbhhWPRs7YvMLH6/EGX+A",
      "include_colab_link": true
    },
    "kernelspec": {
      "name": "python3",
      "display_name": "Python 3"
    },
    "language_info": {
      "name": "python"
    }
  },
  "cells": [
    {
      "cell_type": "markdown",
      "metadata": {
        "id": "view-in-github",
        "colab_type": "text"
      },
      "source": [
        "<a href=\"https://colab.research.google.com/github/hoangnuthuphuong/python_bosung/blob/main/b%C3%A0i_t%E1%BA%ADp_l%E1%BA%ADp_tr%C3%ACnh.ipynb\" target=\"_parent\"><img src=\"https://colab.research.google.com/assets/colab-badge.svg\" alt=\"Open In Colab\"/></a>"
      ]
    },
    {
      "cell_type": "markdown",
      "metadata": {
        "id": "rUNT0SjRlq8o"
      },
      "source": [
        "#BÀI 1: Lập trình nhập vào từ bàn phím 2 số nguyên và tính:"
      ]
    },
    {
      "cell_type": "code",
      "metadata": {
        "id": "OyuU8G3ViZ0_"
      },
      "source": [
        "a = int(input('a='))\n",
        "b = int(input('b='))\n",
        "# tổng hai số\n",
        "c = a + b\n",
        "print('a+b=', c)\n",
        "# tích hai số\n",
        "d = a * b\n",
        "print('a*b=', d)\n",
        "# hiệu hai số\n",
        "e = a - b\n",
        "print('a-b=', e)\n",
        "# phép chia lấy phần nguyên của hai số\n",
        "f = a // b\n",
        "print('phần nguyên của a/b = ', f)\n",
        "# phép chia lấy phần dư của hai số\n",
        "g = a % b\n",
        "print('phần dư của a/b =', g)"
      ],
      "execution_count": null,
      "outputs": []
    },
    {
      "cell_type": "markdown",
      "metadata": {
        "id": "3iugbnD6lvt3"
      },
      "source": [
        "# BÀI 2:"
      ]
    },
    {
      "cell_type": "code",
      "metadata": {
        "id": "cs1LQNjsi3V2"
      },
      "source": [
        "a = float(input('a='))\n",
        "b = float(input('b='))\n",
        "# tổng hai số\n",
        "c = a + b\n",
        "print('a+b=', c)\n",
        "# tích hai số\n",
        "d = a * b\n",
        "print('a*b=', d)\n",
        "# hiệu hai số\n",
        "e = a - b\n",
        "print('a-b=', e)\n",
        "# thương hai số\n",
        "f = a / b\n",
        "print('a/b=', f)"
      ],
      "execution_count": null,
      "outputs": []
    },
    {
      "cell_type": "markdown",
      "metadata": {
        "id": "O-syN-IQndym"
      },
      "source": [
        "# BÀI 3\n",
        "\n"
      ]
    },
    {
      "cell_type": "code",
      "metadata": {
        "id": "jz4hmvBgm_-0"
      },
      "source": [
        "import math\n",
        "a = float(input('a='))\n",
        "\n",
        "print('trị tuyệt đối của a=',math.fabs(a))\n",
        "print('phần nguyên của a=', int(a))\n",
        "\n",
        "b = int(input('b='))\n",
        "print(a, 'lũy thừa', b, '= ',math.pow(a, b))\n",
        "\n",
        "if a <= 0:\n",
        "    print('căn bậc hai của trị tuyệt đối a=',math.fabs(a)*0.5)\n",
        "else:\n",
        "    print('căn bậc hai của a=',math.sqrt(a))\n"
      ],
      "execution_count": null,
      "outputs": []
    },
    {
      "cell_type": "markdown",
      "metadata": {
        "id": "Pk6NUskNu13H"
      },
      "source": [
        "# bài 4\n"
      ]
    },
    {
      "cell_type": "code",
      "metadata": {
        "id": "iPETwW0ap0y1"
      },
      "source": [
        "a=float(input('a='))\n",
        "b=float(input('b='))\n",
        "a>=b"
      ],
      "execution_count": null,
      "outputs": []
    },
    {
      "cell_type": "code",
      "metadata": {
        "id": "fVCyKAS5u4dK"
      },
      "source": [
        "a=float(input('a='))\n",
        "b=float(input('b='))\n",
        "a<=b"
      ],
      "execution_count": null,
      "outputs": []
    },
    {
      "cell_type": "code",
      "metadata": {
        "id": "avvo08pQ9iqQ"
      },
      "source": [
        "a=float(input('a='))\n",
        "b=float(input('b='))\n",
        "a>b"
      ],
      "execution_count": null,
      "outputs": []
    },
    {
      "cell_type": "code",
      "metadata": {
        "id": "VELDYHWg9uGq"
      },
      "source": [
        "a=float(input('a='))\n",
        "b=float(input('b='))\n",
        "a<b"
      ],
      "execution_count": null,
      "outputs": []
    },
    {
      "cell_type": "code",
      "metadata": {
        "id": "ynBy3aK59wgs"
      },
      "source": [
        "a=float(input('a='))\n",
        "b=float(input('b='))\n",
        "a!=b"
      ],
      "execution_count": null,
      "outputs": []
    },
    {
      "cell_type": "markdown",
      "metadata": {
        "id": "TocR5XuH-fCx"
      },
      "source": [
        "# BÀI 5\n",
        "\n"
      ]
    },
    {
      "cell_type": "code",
      "metadata": {
        "id": "6DYRLfxK-pAt"
      },
      "source": [
        " print(input('nhập chuỗi kí tự cần in hoa: ').upper())\n",
        " print(input('nhập chuỗi kí tự cần in thường: ').lower())\n"
      ],
      "execution_count": null,
      "outputs": []
    },
    {
      "cell_type": "markdown",
      "metadata": {
        "id": "WJfL9a_GBHK3"
      },
      "source": [
        "# BÀI 6"
      ]
    },
    {
      "cell_type": "code",
      "metadata": {
        "id": "51hHEwU6_eec"
      },
      "source": [
        "song=' Sóng bắt đầu từ gió\\n Gió bắt đầu từ đâu??\\n Em cũng không biết nữa\\n Từ khi nào ta yêu nhau?!!\\n hihi'\n",
        "print(song)"
      ],
      "execution_count": null,
      "outputs": []
    },
    {
      "cell_type": "code",
      "metadata": {
        "id": "vG6puUDqAtfp"
      },
      "source": [
        ""
      ],
      "execution_count": null,
      "outputs": []
    }
  ]
}