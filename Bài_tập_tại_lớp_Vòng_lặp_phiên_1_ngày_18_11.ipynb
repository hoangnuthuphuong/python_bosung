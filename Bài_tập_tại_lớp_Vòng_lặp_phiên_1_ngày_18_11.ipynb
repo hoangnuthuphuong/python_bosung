{
  "nbformat": 4,
  "nbformat_minor": 0,
  "metadata": {
    "colab": {
      "name": "Bài tập tại lớp - Vòng lặp - phiên 1-ngày 18/11",
      "private_outputs": true,
      "provenance": [],
      "authorship_tag": "ABX9TyNRzZVEWdgsAHn1hbNZls3b",
      "include_colab_link": true
    },
    "kernelspec": {
      "name": "python3",
      "display_name": "Python 3"
    },
    "language_info": {
      "name": "python"
    }
  },
  "cells": [
    {
      "cell_type": "markdown",
      "metadata": {
        "id": "view-in-github",
        "colab_type": "text"
      },
      "source": [
        "<a href=\"https://colab.research.google.com/github/hoangnuthuphuong/python_bosung/blob/main/B%C3%A0i_t%E1%BA%ADp_t%E1%BA%A1i_l%E1%BB%9Bp_V%C3%B2ng_l%E1%BA%B7p_phi%C3%AAn_1_ng%C3%A0y_18_11.ipynb\" target=\"_parent\"><img src=\"https://colab.research.google.com/assets/colab-badge.svg\" alt=\"Open In Colab\"/></a>"
      ]
    },
    {
      "cell_type": "code",
      "metadata": {
        "id": "Fv5-YX_C9zsO"
      },
      "source": [
        "#bài1: In ra màn hình từ 1 đến 10\n",
        "a=1\n",
        "while a<11:\n",
        "  print(a)\n",
        "  a=a+1"
      ],
      "execution_count": null,
      "outputs": []
    },
    {
      "cell_type": "code",
      "metadata": {
        "id": "jAh_EILq_2Jq"
      },
      "source": [
        "#bài2: vẽ cái hình tam giác như đề\n",
        "a=int(input(\"Nhập một số nguyên: \"))\n",
        "for i in range(0, a + 1):\n",
        "    for j in range(a-i,0,-1):\n",
        "        print(j, end=' ')\n",
        "    print()"
      ],
      "execution_count": null,
      "outputs": []
    },
    {
      "cell_type": "code",
      "metadata": {
        "id": "gF2hLN26_yS-"
      },
      "source": [
        "#bài3: tính tổng các số từ 1 đến a\n",
        "tong=0\n",
        "a=int(input(\"Nhập một số nguyên: \"))\n",
        "while a<0:\n",
        "    a=int(input(\"Mời nhập lại một số nguyên khác: \"))\n",
        "for i in range(1,a+1):\n",
        "    tong+=i\n",
        "print(\"Tổng các số từ 1 ->\",a,\"là:\",tong)\n"
      ],
      "execution_count": null,
      "outputs": []
    },
    {
      "cell_type": "code",
      "metadata": {
        "id": "loiBrqS7_t4u"
      },
      "source": [
        "#bài4: In ra bảng cửu chương\n",
        "a=int(input(\"bảng cửu chương: \"))\n",
        "i=i+1\n",
        "for i in range(1,11):\n",
        "  print(a,\"*\",i,\"=\",a*i)\n"
      ],
      "execution_count": null,
      "outputs": []
    },
    {
      "cell_type": "code",
      "metadata": {
        "id": "-Vj3Nslw_rPl"
      },
      "source": [
        "#bài5: in ra các số trong list\n",
        "list = [1,2,3,4,5,6,7,8,9,10]\n",
        "for num in list:\n",
        "    print(num)"
      ],
      "execution_count": null,
      "outputs": []
    },
    {
      "cell_type": "code",
      "metadata": {
        "id": "468bq7sN_ZWV"
      },
      "source": [
        "#bài6: tính tổng các chữ số của một số\n",
        "n = int(input(\"Nhập số nguyên dương n = \"))\n",
        "s = 0\n",
        "while (n > 0):\n",
        "    s = s + n % 10\n",
        "    n = int(n / 10)\n",
        "print(\"Tổng các chữ số là\", s)"
      ],
      "execution_count": null,
      "outputs": []
    },
    {
      "cell_type": "code",
      "metadata": {
        "id": "eTc2GK7d_UxT"
      },
      "source": [
        "#bài7: in danh sách theo thứ tự ngược lại\n",
        "list=[1,2,3,4,5,6,7,8,9]\n",
        "for num in range(len(list),0,-1):\n",
        "  print(num,end=\",\")\n"
      ],
      "execution_count": null,
      "outputs": []
    },
    {
      "cell_type": "code",
      "metadata": {
        "id": "zR5qcgtY_P1r"
      },
      "source": [
        "#bài8: in ra màn hình từ -10 đến -1\n",
        "for i in range(-10,0):\n",
        "  print(i,end=\" \")"
      ],
      "execution_count": null,
      "outputs": []
    },
    {
      "cell_type": "code",
      "metadata": {
        "id": "2leb6b4f9F8W"
      },
      "source": [
        "#Sử dụng lệnh else để kết thúc một vòng lặp\n",
        "for num in range(5):\n",
        "    print(num, end = \" \")\n",
        "else:\n",
        "    print(\"\\nDone!\")"
      ],
      "execution_count": null,
      "outputs": []
    },
    {
      "cell_type": "code",
      "metadata": {
        "id": "n2KXhDT0_M5m"
      },
      "source": [
        "#bài10: in ra các số nguyên tố trong khoảng từ a đến b\n",
        "a=int(input(\"nhập số bắt đầu: \"))\n",
        "b=int(input(\"nhập số kết thúc: \"))\n",
        "for num in range(a,b+1):\n",
        "   for i in range(2,num): \n",
        "      if num%i == 0: \n",
        "         j=num/i\n",
        "         break\n",
        "   else:\n",
        "      print (num, 'là số nguyên tố')"
      ],
      "execution_count": null,
      "outputs": []
    },
    {
      "cell_type": "code",
      "metadata": {
        "id": "LSmRruR5_Gvj"
      },
      "source": [
        "#bài11: in ra màn hình x số đầu tiên trong dãy fibonacci\n",
        "x = int(input(\"nhập số:\"))\n",
        "a, b = 1, 2\n",
        "i = 0\n",
        "if x <= 0:\n",
        "   print(\"nhập lại một số dương\")\n",
        "elif x == 1:\n",
        "   print(x)\n",
        "else:\n",
        "   print()\n",
        "   while i < x:\n",
        "       print(a)\n",
        "       s = a + b\n",
        "       a = b\n",
        "       b = s\n",
        "       i += 1"
      ],
      "execution_count": null,
      "outputs": []
    },
    {
      "cell_type": "code",
      "metadata": {
        "id": "Ycs2Nzy4-9CC"
      },
      "source": [
        "#bài 12: tính giai thừa của x\n",
        "x = int(input(\"Nhập số nguyên dương x = \"))\n",
        "while (x < 0):\n",
        "    if (x < 0):\n",
        "        print(\"Nhập lại só lớn hơn 0!\")\n",
        "        x = int(input(\"Nhập số nguyên dương x = \"))\n",
        "if (x == 0 or x == 1):\n",
        "    x = int(input(\"Nhập số nguyên dương x = \"))\n",
        "else:\n",
        "    for i in range(2, x + 1):\n",
        "        x = x * i\n",
        "print(\"Giai thừa là\", x)"
      ],
      "execution_count": null,
      "outputs": []
    },
    {
      "cell_type": "code",
      "metadata": {
        "id": "hr_ZA__gAjPn"
      },
      "source": [
        "x = int(input(\"Nhập số nguyên dương x = \"))\n",
        "while (x <= 0 or x == 1):\n",
        "  if x<=0:\n",
        "    x = int(input(\"Nhập lại số nguyên dương x = \"))\n",
        "  else:\n",
        "    print(\"giai thừa của 1 = 1\")\n",
        "    break\n",
        "\n",
        "else:\n",
        "    for i in range(2, x + 1):\n",
        "        x = x * i\n",
        "print(\"Giai thừa là\", x)"
      ],
      "execution_count": null,
      "outputs": []
    },
    {
      "cell_type": "code",
      "metadata": {
        "id": "AzHbjkGW-4n6"
      },
      "source": [
        "#bài13: in ra màn hình số đảo ngược của số đã nhập\n",
        "print(\"Nhập một số nguyên: \")\n",
        "n = int(input())\n",
        "while (n != 0):\n",
        "    print(n % 10, end=\"\")\n",
        "    n = n // 10 "
      ],
      "execution_count": null,
      "outputs": []
    },
    {
      "cell_type": "code",
      "metadata": {
        "id": "F__STJHE-1xO"
      },
      "source": [
        "#bài14: in ra màn hình các phần tử ở vị trí lẻ\n",
        "list = [\"thu\", 7, \"phuong\", \"Huế\", 179, 55]\n",
        "for i in range(0, len(list), 2):\n",
        "   print(list[i])\n"
      ],
      "execution_count": null,
      "outputs": []
    },
    {
      "cell_type": "code",
      "metadata": {
        "id": "L9tWc-Q7-yP3"
      },
      "source": [
        "#bài 15: tính lập phương của các số từ 1 đến số nhập vào\n",
        "a=int(input(\"nhập số:\"))\n",
        "i=1\n",
        "while i in range(i,a+1):\n",
        "  print(\"lập phương của \",i,\"bằng\",i**3)\n",
        "  i=i+1"
      ],
      "execution_count": null,
      "outputs": []
    },
    {
      "cell_type": "code",
      "metadata": {
        "id": "js_vnh0YAA-n"
      },
      "source": [
        ""
      ],
      "execution_count": null,
      "outputs": []
    }
  ]
}