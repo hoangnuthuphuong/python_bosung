{
  "nbformat": 4,
  "nbformat_minor": 0,
  "metadata": {
    "colab": {
      "name": "BÀI TẬP LẬP TRÌNH VỚI TẬP TIN NÂNG CAO",
      "provenance": [],
      "include_colab_link": true
    },
    "kernelspec": {
      "name": "python3",
      "display_name": "Python 3"
    },
    "language_info": {
      "name": "python"
    }
  },
  "cells": [
    {
      "cell_type": "markdown",
      "metadata": {
        "id": "view-in-github",
        "colab_type": "text"
      },
      "source": [
        "<a href=\"https://colab.research.google.com/github/hoangnuthuphuong/python_bosung/blob/main/B%C3%80I_T%E1%BA%ACP_L%E1%BA%ACP_TR%C3%8CNH_V%E1%BB%9AI_T%E1%BA%ACP_TIN_N%C3%82NG_CAO.ipynb\" target=\"_parent\"><img src=\"https://colab.research.google.com/assets/colab-badge.svg\" alt=\"Open In Colab\"/></a>"
      ]
    },
    {
      "cell_type": "markdown",
      "metadata": {
        "id": "HE7uHoZgWGyH"
      },
      "source": [
        "- Xây dựng 3 lớp Person, Student và Professor như bảng thiết kế ở trên\n",
        "- Nhập dữ liệu từ bàn phím cho danh sách 10 Person\n",
        "- Nhập dữ liệu (có thể tạo trong chương trình hoặc từ bàn phím) cho danh sách 10 Student\n",
        "- Nhập dữ liệu cho danh sách 10 Professor\n",
        "- In kết quả 3 danh sách trên ra màn hình\n",
        "- Sắp xếp danh sách Person giảm dần theo Name; sắp xếp danh sách Student giảm dần theo\n",
        "Average Mark; và sắp xếp danh sách Professor tăng dần theo Salary\n",
        "- Lưu tuần tự 3 danh sách này vào 3 tập tin khác nhau (sử dụng pickle)\n",
        "- Đọc các tập tin này và in kết quả ra màn hình."
      ]
    },
    {
      "cell_type": "code",
      "metadata": {
        "id": "1amTkOGkOBpx"
      },
      "source": [
        "import pickle\n",
        "import random\n"
      ],
      "execution_count": 1,
      "outputs": []
    },
    {
      "cell_type": "code",
      "metadata": {
        "id": "H1-PYDtreo2Z"
      },
      "source": [
        "class Person():\n",
        "  def __init__(self, name, phonenumber, email):\n",
        "    self.name = name\n",
        "    self.phonenumber = phonenumber\n",
        "    self.email = email\n",
        "  def outputPerson(self) -> str:\n",
        "      pr = 'Name: '+self.name+'; Phone number: '+self.phonenumber+'; Email address: '+self.emailaddress+'\\n'\n",
        "      return pr\n",
        "\n",
        "class Student(Person):\n",
        "  def __init__(self, name, phonenumber, email, studentnumber, averagemark):\n",
        "    Person().__init__(name, phonenumber, email)\n",
        "    self.name = name\n",
        "    self.phonenumber = phonenumber\n",
        "    self.email = email\n",
        "    self.studentnumber = studentnumber\n",
        "    self.averagemark = averagemark\n",
        "  def outputStudent(self) -> str:\n",
        "      pr = self.outputPerson() + 'Student Number: '+self.studentnumber+'; Average Mark: '+self.averagemark+'\\n'\n",
        "      return pr\n",
        "\n",
        "\n",
        "class Professor(Person):\n",
        "  def __init__(self, name, phonenumber, email, salary):\n",
        "    Person().__init__(name, phonenumber, email)\n",
        "    self.phonenumber = phonenumber\n",
        "    self.email = email\n",
        "    self.name = name\n",
        "    self.salary = salary\n",
        "  def outputProfessor(self) -> str:\n",
        "      pr = self.outputPerson() + 'Salary: '+str(self.salary)+ '\\n'\n",
        "      return pr"
      ],
      "execution_count": 55,
      "outputs": []
    },
    {
      "cell_type": "code",
      "source": [
        "per = []\n",
        "count = 1\n",
        "while count <= 3:\n",
        "        print(\"Person\",count)\n",
        "        count+=1\n",
        "        na = input(\"Name: \")\n",
        "        e = na + \"@gmail.com\"\n",
        "        per.append(Person(na, input(\"Phone: \"),e))\n",
        "i=0\n",
        "while i < 3:\n",
        "  print(per[i])\n",
        "  i+=1\n",
        "\n",
        "for i in range(3):\n",
        "    for j in range(i+1,3):\n",
        "        if per[i].name < per[j].name:\n",
        "            per[i],per[j]=per[j],per[i]\n",
        "\n",
        "print(per)"
      ],
      "metadata": {
        "colab": {
          "base_uri": "https://localhost:8080/"
        },
        "id": "Gyj4lOkC-T1Q",
        "outputId": "61826992-77f2-45bd-ba0c-8da7f984e0f5"
      },
      "execution_count": 56,
      "outputs": [
        {
          "output_type": "stream",
          "name": "stdout",
          "text": [
            "Person 1\n",
            "Name: ph\n",
            "Phone: 13341\n",
            "Person 2\n",
            "Name: ha\n",
            "Phone: q2\n",
            "Person 3\n",
            "Name: thu\n",
            "Phone: 341241\n",
            "<__main__.Person object at 0x7f9412786190>\n",
            "<__main__.Person object at 0x7f94150630d0>\n",
            "<__main__.Person object at 0x7f940b23e550>\n",
            "[<__main__.Person object at 0x7f940b23e550>, <__main__.Person object at 0x7f9412786190>, <__main__.Person object at 0x7f94150630d0>]\n"
          ]
        }
      ]
    },
    {
      "cell_type": "code",
      "source": [
        "stu = []\n",
        "count = 1\n",
        "while count <= 3:\n",
        "        print(\"Student\",count)\n",
        "        count+=1\n",
        "        na = input(\"Name: \")\n",
        "        e = na + \"@gmail.com\"\n",
        "        stu.append(Student(na, input(\"Phone: \"),e ,input(\"studentnumber: \"), input(\"Average mark: \")))\n",
        "        \n",
        "i=0\n",
        "while i < 3:\n",
        "  print(stu[i])\n",
        "  i+=1\n",
        "\n",
        "for i in range(3):\n",
        "    for j in range(i+1,3):\n",
        "        if stu[i].averagemark < stu[j].averagemark:\n",
        "            stu[i],stu[j]=stu[j],stu[i]\n",
        "\n",
        "print(stu)"
      ],
      "metadata": {
        "colab": {
          "base_uri": "https://localhost:8080/",
          "height": 459
        },
        "id": "8tf21kHa--OJ",
        "outputId": "4cfa91fc-fe70-4b6e-fce5-a45ad375fd44"
      },
      "execution_count": 59,
      "outputs": [
        {
          "name": "stdout",
          "output_type": "stream",
          "text": [
            "Student 1\n",
            "Name: phuong\n",
            "Phone: 425\n",
            "studentnumber: 2\n",
            "Average mark: 4\n"
          ]
        },
        {
          "output_type": "error",
          "ename": "TypeError",
          "evalue": "ignored",
          "traceback": [
            "\u001b[0;31m---------------------------------------------------------------------------\u001b[0m",
            "\u001b[0;31mTypeError\u001b[0m                                 Traceback (most recent call last)",
            "\u001b[0;32m<ipython-input-59-ad6070dafa05>\u001b[0m in \u001b[0;36m<module>\u001b[0;34m()\u001b[0m\n\u001b[1;32m      6\u001b[0m         \u001b[0mna\u001b[0m \u001b[0;34m=\u001b[0m \u001b[0minput\u001b[0m\u001b[0;34m(\u001b[0m\u001b[0;34m\"Name: \"\u001b[0m\u001b[0;34m)\u001b[0m\u001b[0;34m\u001b[0m\u001b[0;34m\u001b[0m\u001b[0m\n\u001b[1;32m      7\u001b[0m         \u001b[0me\u001b[0m \u001b[0;34m=\u001b[0m \u001b[0mna\u001b[0m \u001b[0;34m+\u001b[0m \u001b[0;34m\"@gmail.com\"\u001b[0m\u001b[0;34m\u001b[0m\u001b[0;34m\u001b[0m\u001b[0m\n\u001b[0;32m----> 8\u001b[0;31m         \u001b[0mstu\u001b[0m\u001b[0;34m.\u001b[0m\u001b[0mappend\u001b[0m\u001b[0;34m(\u001b[0m\u001b[0mStudent\u001b[0m\u001b[0;34m(\u001b[0m\u001b[0mna\u001b[0m\u001b[0;34m,\u001b[0m \u001b[0minput\u001b[0m\u001b[0;34m(\u001b[0m\u001b[0;34m\"Phone: \"\u001b[0m\u001b[0;34m)\u001b[0m\u001b[0;34m,\u001b[0m\u001b[0me\u001b[0m \u001b[0;34m,\u001b[0m\u001b[0minput\u001b[0m\u001b[0;34m(\u001b[0m\u001b[0;34m\"studentnumber: \"\u001b[0m\u001b[0;34m)\u001b[0m\u001b[0;34m,\u001b[0m \u001b[0minput\u001b[0m\u001b[0;34m(\u001b[0m\u001b[0;34m\"Average mark: \"\u001b[0m\u001b[0;34m)\u001b[0m\u001b[0;34m)\u001b[0m\u001b[0;34m)\u001b[0m\u001b[0;34m\u001b[0m\u001b[0;34m\u001b[0m\u001b[0m\n\u001b[0m\u001b[1;32m      9\u001b[0m \u001b[0;34m\u001b[0m\u001b[0m\n\u001b[1;32m     10\u001b[0m \u001b[0mi\u001b[0m\u001b[0;34m=\u001b[0m\u001b[0;36m0\u001b[0m\u001b[0;34m\u001b[0m\u001b[0;34m\u001b[0m\u001b[0m\n",
            "\u001b[0;32m<ipython-input-55-df49dacfb8ba>\u001b[0m in \u001b[0;36m__init__\u001b[0;34m(self, name, phonenumber, email, studentnumber, averagemark)\u001b[0m\n\u001b[1;32m     10\u001b[0m \u001b[0;32mclass\u001b[0m \u001b[0mStudent\u001b[0m\u001b[0;34m(\u001b[0m\u001b[0mPerson\u001b[0m\u001b[0;34m)\u001b[0m\u001b[0;34m:\u001b[0m\u001b[0;34m\u001b[0m\u001b[0;34m\u001b[0m\u001b[0m\n\u001b[1;32m     11\u001b[0m   \u001b[0;32mdef\u001b[0m \u001b[0m__init__\u001b[0m\u001b[0;34m(\u001b[0m\u001b[0mself\u001b[0m\u001b[0;34m,\u001b[0m \u001b[0mname\u001b[0m\u001b[0;34m,\u001b[0m \u001b[0mphonenumber\u001b[0m\u001b[0;34m,\u001b[0m \u001b[0memail\u001b[0m\u001b[0;34m,\u001b[0m \u001b[0mstudentnumber\u001b[0m\u001b[0;34m,\u001b[0m \u001b[0maveragemark\u001b[0m\u001b[0;34m)\u001b[0m\u001b[0;34m:\u001b[0m\u001b[0;34m\u001b[0m\u001b[0;34m\u001b[0m\u001b[0m\n\u001b[0;32m---> 12\u001b[0;31m     \u001b[0mPerson\u001b[0m\u001b[0;34m(\u001b[0m\u001b[0;34m)\u001b[0m\u001b[0;34m.\u001b[0m\u001b[0m__init__\u001b[0m\u001b[0;34m(\u001b[0m\u001b[0mname\u001b[0m\u001b[0;34m,\u001b[0m \u001b[0mphonenumber\u001b[0m\u001b[0;34m,\u001b[0m \u001b[0memail\u001b[0m\u001b[0;34m)\u001b[0m\u001b[0;34m\u001b[0m\u001b[0;34m\u001b[0m\u001b[0m\n\u001b[0m\u001b[1;32m     13\u001b[0m     \u001b[0mself\u001b[0m\u001b[0;34m.\u001b[0m\u001b[0mname\u001b[0m \u001b[0;34m=\u001b[0m \u001b[0mname\u001b[0m\u001b[0;34m\u001b[0m\u001b[0;34m\u001b[0m\u001b[0m\n\u001b[1;32m     14\u001b[0m     \u001b[0mself\u001b[0m\u001b[0;34m.\u001b[0m\u001b[0mphonenumber\u001b[0m \u001b[0;34m=\u001b[0m \u001b[0mphonenumber\u001b[0m\u001b[0;34m\u001b[0m\u001b[0;34m\u001b[0m\u001b[0m\n",
            "\u001b[0;31mTypeError\u001b[0m: __init__() missing 3 required positional arguments: 'name', 'phonenumber', and 'email'"
          ]
        }
      ]
    },
    {
      "cell_type": "code",
      "metadata": {
        "id": "2dMq6ggym278"
      },
      "source": [
        ""
      ],
      "execution_count": null,
      "outputs": []
    },
    {
      "cell_type": "code",
      "metadata": {
        "id": "13QxYyjA2Vt7"
      },
      "source": [
        ""
      ],
      "execution_count": null,
      "outputs": []
    }
  ]
}