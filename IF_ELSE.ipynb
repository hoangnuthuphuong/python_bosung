{
  "nbformat": 4,
  "nbformat_minor": 0,
  "metadata": {
    "colab": {
      "name": "IF-ELSE",
      "provenance": [],
      "collapsed_sections": [],
      "include_colab_link": true
    },
    "kernelspec": {
      "display_name": "Python 3",
      "name": "python3"
    }
  },
  "cells": [
    {
      "cell_type": "markdown",
      "metadata": {
        "id": "view-in-github",
        "colab_type": "text"
      },
      "source": [
        "<a href=\"https://colab.research.google.com/github/hoangnuthuphuong/python_bosung/blob/main/IF_ELSE.ipynb\" target=\"_parent\"><img src=\"https://colab.research.google.com/assets/colab-badge.svg\" alt=\"Open In Colab\"/></a>"
      ]
    },
    {
      "cell_type": "code",
      "metadata": {
        "colab": {
          "base_uri": "https://localhost:8080/"
        },
        "id": "lcNNJwH7ra3N",
        "outputId": "7cfec960-c9c2-41e1-fd23-183e14ebb489"
      },
      "source": [
        "x=float(input(\"nhập điểm:\"))\n",
        "while x<0 or x>10:\n",
        "  print(print(\"nhập lại điểm\"))\n",
        "  x=float(input(\"nhập điểm:\"))\n",
        "if (x>=0) and (x<5):\n",
        "  print(\"yếu\")\n",
        "elif (x>=5) and (x<7):\n",
        "  print(\"trung bình\")\n",
        "elif (x>=7) and (x<8):\n",
        "  print(\"khá\")\n",
        "elif (x>=7) and (x<9):\n",
        "  print(\"giỏi\")\n",
        "else:\n",
        "  print(\"xuất sắc\")\n"
      ],
      "execution_count": 11,
      "outputs": [
        {
          "output_type": "stream",
          "name": "stdout",
          "text": [
            "nhập điểm:14\n",
            "nhập lại điểm\n",
            "None\n",
            "nhập điểm:4\n",
            "yếu\n"
          ]
        }
      ]
    }
  ]
}