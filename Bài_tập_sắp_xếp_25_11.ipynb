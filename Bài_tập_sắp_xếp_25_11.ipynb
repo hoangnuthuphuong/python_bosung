{
  "nbformat": 4,
  "nbformat_minor": 0,
  "metadata": {
    "colab": {
      "name": "Bài tập sắp xếp_25/11",
      "private_outputs": true,
      "provenance": [],
      "authorship_tag": "ABX9TyPS4iiKtlYIwoeubPnntJXT",
      "include_colab_link": true
    },
    "kernelspec": {
      "name": "python3",
      "display_name": "Python 3"
    },
    "language_info": {
      "name": "python"
    }
  },
  "cells": [
    {
      "cell_type": "markdown",
      "metadata": {
        "id": "view-in-github",
        "colab_type": "text"
      },
      "source": [
        "<a href=\"https://colab.research.google.com/github/hoangnuthuphuong/python_bosung/blob/main/B%C3%A0i_t%E1%BA%ADp_s%E1%BA%AFp_x%E1%BA%BFp_25_11.ipynb\" target=\"_parent\"><img src=\"https://colab.research.google.com/assets/colab-badge.svg\" alt=\"Open In Colab\"/></a>"
      ]
    },
    {
      "cell_type": "markdown",
      "metadata": {
        "id": "eMxT0rLE1tZb"
      },
      "source": [
        "#Bài 1:"
      ]
    },
    {
      "cell_type": "code",
      "metadata": {
        "id": "hgKKhNOR0Ob3"
      },
      "source": [
        "danh_sach = []\n",
        "n = 0\n",
        "while n<10:\n",
        "  danh_sach.append(int(input(\"nhập số nguyên từ bàn phím : \")))\n",
        "  n+=1\n",
        "  print(\"Danh sach chua sap xep: \", danh_sach)\n",
        "for i in range(len(danh_sach)):\n",
        "    for j in range(i + 1, len(danh_sach)):\n",
        "        if danh_sach[i] > danh_sach[j]:\n",
        "            danh_sach[i], danh_sach[j] = danh_sach[j], danh_sach[i]\n",
        "print(\"Danh sach da sap xep tang dan: \", danh_sach)\n"
      ],
      "execution_count": null,
      "outputs": []
    },
    {
      "cell_type": "markdown",
      "metadata": {
        "id": "l1kZGiGY1e6p"
      },
      "source": [
        "#Bài 2:\n",
        "\n"
      ]
    },
    {
      "cell_type": "code",
      "metadata": {
        "id": "d2wyVy8fBa2E"
      },
      "source": [
        "def nhap_danh_sach_so_nguyen(n):\n",
        "  Danh_sach2 = []\n",
        "  for i in range (n):\n",
        "    Danh_sach2.append(int(input(\"nhập số nguyên: \")))\n",
        "  return Danh_sach2\n",
        "\n",
        "def sap_xep_danh_sach(Danh_sach2):\n",
        "\n",
        "  for i in range(len(Danh_sach2)):\n",
        "    for j in range(i + 1, len(Danh_sach2)):\n",
        "        if Danh_sach2[i] > Danh_sach2[j]:\n",
        "            Danh_sach2[i], Danh_sach2[j] = Danh_sach2[j], Danh_sach2[i]\n",
        "  return Danh_sach2\n",
        "\n",
        "def main():\n",
        "  n = int(input(\"nhập n: \"))\n",
        "  Danh_sach2 = nhap_danh_sach_so_nguyen(n)\n",
        "  print(sap_xep_danh_sach(Danh_sach2))\n",
        "if __name__ == '__main__':\n",
        "    main()\n"
      ],
      "execution_count": null,
      "outputs": []
    },
    {
      "cell_type": "markdown",
      "metadata": {
        "id": "bdCMM-v71aai"
      },
      "source": [
        "#Bài 3:\n",
        "\n"
      ]
    },
    {
      "cell_type": "code",
      "metadata": {
        "id": "J41Fj7l31cuL"
      },
      "source": [
        "check = \"\"\n",
        "danh_sach3 = []\n",
        "while True:\n",
        "  danh_sach3.append(float(input(\"nhập số thực: \")))\n",
        "  check = input(\"Nhấn kí tự bất kì để tiếp tục hoặc k để dừng lại: \")\n",
        "  if check in \"Kk\":\n",
        "    break\n",
        "for i in range(len(danh_sach3)):\n",
        "    for j in range(i + 1, len(danh_sach3)):\n",
        "        if danh_sach3[i] > danh_sach3[j]:\n",
        "            danh_sach3[i], danh_sach3[j] = danh_sach3[j], danh_sach3[i]\n",
        "print(\"Danh sach da sap xep tang dan: \", danh_sach3)\n",
        "def tieptuc():\n",
        "    print('Bạn có muốn tiếp tục tính toán')\n",
        "    print('Nhập Yes để tiếp tục\\nNhập No để dừng lại')\n",
        "    YoN= input('Yes or No ').upper()\n",
        "    if YoN == 'YES':\n",
        "        main()\n",
        "    else:\n",
        "        pass\n",
        "tieptuc()"
      ],
      "execution_count": null,
      "outputs": []
    },
    {
      "cell_type": "markdown",
      "metadata": {
        "id": "ZUrA9o9K9EaH"
      },
      "source": [
        "#Bài 4:\n",
        "\n"
      ]
    },
    {
      "cell_type": "code",
      "metadata": {
        "id": "ETPvPcgw9H0W"
      },
      "source": [
        "def nhap_danh_sach_so_thuc():\n",
        "  check = \"\"\n",
        "  Danh_sach4 = []\n",
        "  while True:\n",
        "    Danh_sach3.append(float(input(\"nhập số thực: \")))\n",
        "    check = input(\"có muốn tiếp tục không? C/K: \")\n",
        "    if check in \"Kk\":\n",
        "      break\n",
        "  return Danh_sach3\n",
        "  \n",
        "def sap_xep_danh_sach(Danh_sach2):\n",
        "\n",
        "  for i in range(len(Danh_sach2)):\n",
        "    for j in range(i + 1, len(Danh_sach2)):\n",
        "        if Danh_sach2[i] > Danh_sach2[j]:\n",
        "            Danh_sach2[i], Danh_sach2[j] = Danh_sach2[j], Danh_sach2[i]\n",
        "  return Danh_sach2\n",
        "\n",
        "def main():\n",
        "  n = int(input(\"nhập n: \"))\n",
        "  Danh_sach2 = nhap_danh_sach_so_nguyen(n)\n",
        "  print(sap_xep_danh_sach(Danh_sach2))\n",
        "if __name__ == '__main__':\n",
        "    main()\n",
        "    sap_xep_danh_sach_so_thuc(nhap_danh_sach_so_thuc())"
      ],
      "execution_count": null,
      "outputs": []
    },
    {
      "cell_type": "markdown",
      "metadata": {
        "id": "dLgub4gh0jLM"
      },
      "source": [
        "#Bài 5:\n"
      ]
    },
    {
      "cell_type": "code",
      "metadata": {
        "id": "qL94e8Kl0lgn"
      },
      "source": [
        "import random\n",
        "Danh_sach5 = []\n",
        "nhap5 = int(input(\"Số phần tử: \"))\n",
        "check5 = 0\n",
        "max_value = int(input(\"Nhap gia tri max_value: \"))\n",
        "for i in range(nhap5):\n",
        "  Danh_sach5.append(random.randint(0, max_value))\n",
        "while True:\n",
        "  check5 = int(input(\"Lựa chọn (1) tăng dần, (2) giảm dần: \"))\n",
        "  if check5 == 1: \n",
        "    print(sap_xep_danh_sach(Danh_sach5))\n",
        "    break\n",
        "  elif check5 == 2:\n",
        "    print(sap_xep_danh_sach_so_thuc(Danh_sach5))\n",
        "    break\n"
      ],
      "execution_count": null,
      "outputs": []
    },
    {
      "cell_type": "markdown",
      "metadata": {
        "id": "EQxGtP3d0ePl"
      },
      "source": [
        "#Bài 6:\n",
        "\n"
      ]
    },
    {
      "cell_type": "code",
      "metadata": {
        "id": "SYvL6xbHD1aK"
      },
      "source": [
        "def sinh_ngau_nhien_danh_sach_so_nguyen(n,max_value):\n",
        "    import random\n",
        "    l1 = []\n",
        "    for i in range(n):\n",
        "        l1.append(random.randint(0, max_value))\n",
        "    return l1\n",
        "def sap_xep_giam_dan(x):\n",
        "    for i in range(len(x)):\n",
        "        for j in range(i + 1, len(x)):\n",
        "            if x[i] < x[j]:\n",
        "                x[i], x[j] = x[j], x[i]\n",
        "    return x\n",
        "def sap_xep_tang_dan(x):\n",
        "    for i in range(len(x)):\n",
        "        for j in range(i + 1, len(x)):\n",
        "            if x[i] > x[j]:\n",
        "                x[i], x[j] = x[j], x[i]\n",
        "    return x\n",
        "def main():\n",
        "    n=int(input('số phần tử của danh sách: '))\n",
        "    max_value=int(input('giới hạn random: '))\n",
        "    x=sinh_ngau_nhien_danh_sach_so_nguyen(n,max_value)\n",
        "    print('danh sách sau khi sắp xếp tăng dần:',sap_xep_tang_dan(x))\n",
        "    print('danh sách sau khi sắp xếp giảm dần:', sap_xep_giam_dan(x))\n",
        "if __name__=='__main__':\n",
        "    main()"
      ],
      "execution_count": null,
      "outputs": []
    }
  ]
}