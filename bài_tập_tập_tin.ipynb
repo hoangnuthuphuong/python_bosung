{
  "nbformat": 4,
  "nbformat_minor": 0,
  "metadata": {
    "colab": {
      "name": "bài tập tập tin",
      "private_outputs": true,
      "provenance": [],
      "authorship_tag": "ABX9TyMmpYAWpBZriihD+0hZw2O1",
      "include_colab_link": true
    },
    "kernelspec": {
      "name": "python3",
      "display_name": "Python 3"
    },
    "language_info": {
      "name": "python"
    }
  },
  "cells": [
    {
      "cell_type": "markdown",
      "metadata": {
        "id": "view-in-github",
        "colab_type": "text"
      },
      "source": [
        "<a href=\"https://colab.research.google.com/github/hoangnuthuphuong/python_bosung/blob/main/b%C3%A0i_t%E1%BA%ADp_t%E1%BA%ADp_tin.ipynb\" target=\"_parent\"><img src=\"https://colab.research.google.com/assets/colab-badge.svg\" alt=\"Open In Colab\"/></a>"
      ]
    },
    {
      "cell_type": "code",
      "metadata": {
        "id": "0NbuFTeiS3PY"
      },
      "source": [
        "#cau 1\n",
        "chuoi = input(\"nhập chuỗi từ bàn phím: \")\n",
        "tenfile = input(\"Nhập tên từ bàn phím: \")\n",
        "f = open(tenfile, 'w')\n",
        "f.write(chuoi)\n",
        "f.close()\n",
        "\n",
        "\n"
      ],
      "execution_count": null,
      "outputs": []
    },
    {
      "cell_type": "code",
      "metadata": {
        "id": "QF_flHOMTBxo"
      },
      "source": [
        "#cau 2\n",
        "\n",
        "tenfile = input(\"Tên file từ bàn phím: \")\n",
        "f = open(tenfile, 'r')\n",
        "x = f.read()\n",
        "print(x)\n",
        "f.close()\n",
        "\n"
      ],
      "execution_count": null,
      "outputs": []
    },
    {
      "cell_type": "code",
      "metadata": {
        "id": "-kbmDhVrS--A"
      },
      "source": [
        "#Câu 3\n",
        "\n",
        "tenfile = input(\"Tên file từ bàn phím: \")\n",
        "chuoi = input(\"Nhập chuỗi: \")\n",
        "f = open(tenfile, 'a',)\n",
        "f.write(chuoi)\n",
        "f.close()\n",
        "\n"
      ],
      "execution_count": null,
      "outputs": []
    },
    {
      "cell_type": "code",
      "metadata": {
        "id": "iPNXoj8uTZ_0"
      },
      "source": [
        "#câu 4\n",
        "\n",
        "f = open(tenfile, 'r')\n",
        "a = f.read()\n",
        "print(a)\n",
        "f.close()"
      ],
      "execution_count": null,
      "outputs": []
    },
    {
      "cell_type": "code",
      "metadata": {
        "id": "djWmDIC7S7MX"
      },
      "source": [
        "#bai 5\n",
        "\n",
        "import random\n",
        "danhsach = []\n",
        "check = 0\n",
        "for i in range(1000):\n",
        "    danhsach.append(random.randint(-1000, 1000))\n",
        "filename = input(\"Tên file: \")\n",
        "print(len(danhsach))\n",
        "for i in danhsach:\n",
        "    if check < 9:\n",
        "        f = open(filename, 'a')\n",
        "        chuoikytu = str(i)+','\n",
        "        f.write(chuoikytu)\n",
        "        f.close()\n",
        "        check +=1\n",
        "    else:\n",
        "        f = open(filename, 'a')\n",
        "        f.write(str(i)+\"\\n\")\n",
        "        f.close()\n",
        "        check = 0\n",
        "f = open(filename, 'r')\n",
        "a = f.readlines()\n",
        "for i in a:\n",
        "    print(i.replace(\",\", \"    \"))\n",
        "f.close()"
      ],
      "execution_count": null,
      "outputs": []
    },
    {
      "cell_type": "code",
      "metadata": {
        "id": "fCQi3WJHULYP"
      },
      "source": [
        ""
      ],
      "execution_count": null,
      "outputs": []
    }
  ]
}