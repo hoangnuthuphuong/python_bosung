{
  "nbformat": 4,
  "nbformat_minor": 0,
  "metadata": {
    "colab": {
      "name": "Bài tập tại lớp - lập trình với List_15/11",
      "private_outputs": true,
      "provenance": [],
      "authorship_tag": "ABX9TyNuFRttJR48WeZn1g9WniTo",
      "include_colab_link": true
    },
    "kernelspec": {
      "name": "python3",
      "display_name": "Python 3"
    },
    "language_info": {
      "name": "python"
    }
  },
  "cells": [
    {
      "cell_type": "markdown",
      "metadata": {
        "id": "view-in-github",
        "colab_type": "text"
      },
      "source": [
        "<a href=\"https://colab.research.google.com/github/hoangnuthuphuong/python_bosung/blob/main/B%C3%A0i_t%E1%BA%ADp_t%E1%BA%A1i_l%E1%BB%9Bp_l%E1%BA%ADp_tr%C3%ACnh_v%E1%BB%9Bi_List_15_11.ipynb\" target=\"_parent\"><img src=\"https://colab.research.google.com/assets/colab-badge.svg\" alt=\"Open In Colab\"/></a>"
      ]
    },
    {
      "cell_type": "code",
      "metadata": {
        "id": "FMwQdeaqPXqf"
      },
      "source": [
        "#1. khởi tạo biến x kiểu List rỗng\n",
        "x=[]\n",
        "\n",
        "#2. thêm giá trị 18 vào x\n",
        "x.append(18)\n",
        "\n",
        "#3. thêm giá trị \"Huế\" vào x\n",
        "x.append(\"Huế\")\n",
        "\n",
        "#4. tạo list y\n",
        "y=[12,45,-1,-0.56,\"abc\"]\n",
        "\n",
        "#5. thêm y vào x\n",
        "x=x+y\n",
        "\n",
        "#6. xuất x ra màn hình \n",
        "print(\"giá trị của x:\",x)\n",
        "\n",
        "#7. \n",
        "# xuất ra giá trị đầu tiên của x\n",
        "print(\"giá trị đầu tiên của x là: \",x[0])\n",
        "# xuất ra giá trị cuối cùng của x\n",
        "print(\"giá trị cuối cùng của x là: \",x[len(x)-1])\n",
        "\n",
        "#8. in ra màn giá trị của phần tử đầu tiên đến phần tử thứ 5 của x\n",
        "x[0:5]\n",
        "print(\"giá trị của phần tử đầu tiên đến phần tử thứ 5 của x: \",x[0:5])\n",
        "\n",
        "#9. in ra màn giá trị của phần tử thứ 3 đến cuối cùng của x\n",
        "x[2:len(x)]\n",
        "print(\"giá trị của phần tử thứ 3 đến cuối cùng của x: \",x[2:len(x)])"
      ],
      "execution_count": null,
      "outputs": []
    },
    {
      "cell_type": "code",
      "metadata": {
        "id": "bx1pnCgoUU36"
      },
      "source": [
        ""
      ],
      "execution_count": null,
      "outputs": []
    }
  ]
}