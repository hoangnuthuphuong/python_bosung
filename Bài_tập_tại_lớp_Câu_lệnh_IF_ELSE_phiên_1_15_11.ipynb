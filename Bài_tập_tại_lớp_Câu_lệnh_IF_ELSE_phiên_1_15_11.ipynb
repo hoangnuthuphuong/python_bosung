{
  "nbformat": 4,
  "nbformat_minor": 0,
  "metadata": {
    "colab": {
      "name": "Bài tập tại lớp - Câu lệnh IF - ELSE - phiên 1_15/11",
      "private_outputs": true,
      "provenance": [],
      "authorship_tag": "ABX9TyMExKVzSOMMIf5ooGd6Qjok",
      "include_colab_link": true
    },
    "kernelspec": {
      "name": "python3",
      "display_name": "Python 3"
    },
    "language_info": {
      "name": "python"
    }
  },
  "cells": [
    {
      "cell_type": "markdown",
      "metadata": {
        "id": "view-in-github",
        "colab_type": "text"
      },
      "source": [
        "<a href=\"https://colab.research.google.com/github/hoangnuthuphuong/python_bosung/blob/main/B%C3%A0i_t%E1%BA%ADp_t%E1%BA%A1i_l%E1%BB%9Bp_C%C3%A2u_l%E1%BB%87nh_IF_ELSE_phi%C3%AAn_1_15_11.ipynb\" target=\"_parent\"><img src=\"https://colab.research.google.com/assets/colab-badge.svg\" alt=\"Open In Colab\"/></a>"
      ]
    },
    {
      "cell_type": "markdown",
      "metadata": {
        "id": "Ikv3uvQNZEf8"
      },
      "source": [
        "#bài 1\n"
      ]
    },
    {
      "cell_type": "code",
      "metadata": {
        "id": "OCo5pYcDYGqi"
      },
      "source": [
        "a = int(input(\"Nhập số: \"))\n",
        "if a>0:\n",
        "  print(a,\"là số dương\")\n",
        "else:\n",
        "  print(a,\"là số âm\")"
      ],
      "execution_count": null,
      "outputs": []
    },
    {
      "cell_type": "markdown",
      "metadata": {
        "id": "jJEQpJiFY5LM"
      },
      "source": [
        "#bài 2\n",
        "\n"
      ]
    },
    {
      "cell_type": "code",
      "metadata": {
        "id": "trmkqXKCY9-a"
      },
      "source": [
        "a = int(input(\"Nhập số thứ nhất: \"))\n",
        "b = int(input(\"Nhập số thứ hai: \"))\n",
        "c = int(input(\"Nhập số thứu ba: \"))\n",
        "if a>b:\n",
        "  if a>c:\n",
        "    print(a, \"là số lớn nhất\")\n",
        "  if c>a:\n",
        "    print(c, \"là số lớn nhất\")\n",
        "else:\n",
        "  if b>c:\n",
        "    print(b, \"là số lớn nhất\")\n",
        "  if c>b:\n",
        "    print(c, \"là số lớn nhất\")"
      ],
      "execution_count": null,
      "outputs": []
    },
    {
      "cell_type": "markdown",
      "metadata": {
        "id": "InNiW_mmYpMo"
      },
      "source": [
        "#bài 3"
      ]
    },
    {
      "cell_type": "code",
      "metadata": {
        "id": "rfdq1IJHYrvr"
      },
      "source": [
        "a = float(input(\"Nhập số thực: \"))\n",
        "if a==0:\n",
        "  print(\"zero\")\n",
        "if a>0:\n",
        "  if abs(a)<1:\n",
        "    print(a,\"số dương nhỏ\")\n",
        "  elif abs(a)>1000000:\n",
        "    print(a,\"số dương lớn\") \n",
        "  else:\n",
        "    print(a,\"là số dương\")\n",
        "if a<0:\n",
        "  if abs(a)<1:\n",
        "    print(a,\"số âm nhỏ\")\n",
        "  elif abs(a)>1000000:\n",
        "    print(a,\"số âm lớn\") \n",
        "  else:\n",
        "      print(a,\"là số âm\")\n"
      ],
      "execution_count": null,
      "outputs": []
    },
    {
      "cell_type": "markdown",
      "metadata": {
        "id": "u_ALLFJnYcao"
      },
      "source": [
        "#bài 4\n"
      ]
    },
    {
      "cell_type": "code",
      "metadata": {
        "id": "KXOcfiUzYgdv"
      },
      "source": [
        "a = int(input(\"Nhập một số từ 1-7: \"))\n",
        "if a==1:\n",
        "  print(\"Thứ hai\")\n",
        "if a==2:\n",
        "  print(\"Thứ ba\")\n",
        "if a==3:\n",
        "  print(\"Thứ tư\")\n",
        "if a==4:\n",
        "  print(\"Thứ năm\")\n",
        "if a==5:\n",
        "  print(\"Thứ sáu\")\n",
        "if a==6:\n",
        "  print(\"Thứ bảy\")\n",
        "if a==7:\n",
        "  print(\"Chủ nhật\")\n",
        "if a<1 or a>7:\n",
        "  print(\"không thỏa mãn mời nhập lại số khác!\")\n"
      ],
      "execution_count": null,
      "outputs": []
    },
    {
      "cell_type": "markdown",
      "metadata": {
        "id": "4EA3S-gnYXZ_"
      },
      "source": [
        "#bài 5\n",
        "\n"
      ]
    },
    {
      "cell_type": "code",
      "metadata": {
        "id": "QcaVrZQ2YVZp"
      },
      "source": [
        "\n",
        "a = float(input(\"Nhập số thực thứ nhất: \"))\n",
        "a=round(a,3)\n",
        "b = float(input(\"Nhập số thực thứ hai: \"))\n",
        "b=round(b,3)\n",
        "if a//1 == b//1:\n",
        "  if a%1 == b%1:\n",
        "    print(a,\"giống\",b)\n",
        "  else:\n",
        "    print(a,\"khác\",b)\n",
        "else:\n",
        "  print(a, \"khác\",b)\n"
      ],
      "execution_count": null,
      "outputs": []
    }
  ]
}