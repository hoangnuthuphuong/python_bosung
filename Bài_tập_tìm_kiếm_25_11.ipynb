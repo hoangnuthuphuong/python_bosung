{
  "nbformat": 4,
  "nbformat_minor": 0,
  "metadata": {
    "colab": {
      "name": "Bài tập tìm kiếm_25/11",
      "private_outputs": true,
      "provenance": [],
      "authorship_tag": "ABX9TyNlXCGEzSimL4h8fIIE9hhP",
      "include_colab_link": true
    },
    "kernelspec": {
      "name": "python3",
      "display_name": "Python 3"
    },
    "language_info": {
      "name": "python"
    }
  },
  "cells": [
    {
      "cell_type": "markdown",
      "metadata": {
        "id": "view-in-github",
        "colab_type": "text"
      },
      "source": [
        "<a href=\"https://colab.research.google.com/github/hoangnuthuphuong/python_bosung/blob/main/B%C3%A0i_t%E1%BA%ADp_t%C3%ACm_ki%E1%BA%BFm_25_11.ipynb\" target=\"_parent\"><img src=\"https://colab.research.google.com/assets/colab-badge.svg\" alt=\"Open In Colab\"/></a>"
      ]
    },
    {
      "cell_type": "markdown",
      "metadata": {
        "id": "aPHCGjhpIjk9"
      },
      "source": [
        "#Bài 1: Viết chương trình thực hiện các yêu cầu sau:\n",
        "- Sinh ngẫu nhiên 1 danh sách n số nguyên trong đoạn [a, b], với các thông số n, a và b được\n",
        "nhập vào từ bàn phím;\n",
        "- Nhập vào 1 số x từ bàn phím có giá trị trong đoạn [a, b];\n",
        "- Tìm kiếm x có xuất hiện trong danh sách trên hay không. Nếu có thì trả về vị trí xuất hiện\n",
        "đầu tiên trong danh sách. Ngược lại, thông báo không tìm thấy."
      ]
    },
    {
      "cell_type": "code",
      "metadata": {
        "id": "fMYvZfQhHO-S"
      },
      "source": [
        "import random\n",
        "danh_sach1 = []\n",
        "n = int(input(\"nhập số phần tử: \"))\n",
        "a = int(input(\"min: \"))\n",
        "b = int(input(\"max: \"))\n",
        "vi_tri = 0\n",
        "for i in range(n):\n",
        "  danh_sach1.append(random.randint(a, b))\n",
        "print(\"danh sách random: \", danh_sach1)\n",
        "x = int(input(\"nhập số muốn tìm: \"))\n",
        "for i in danh_sach1:\n",
        "  vi_tri+=1\n",
        "  if x == i:\n",
        "    print(\"Số\", x, \"xuất hiện lần đầu tiên ở vị trí\", vi_tri)\n",
        "    break\n",
        "else:\n",
        "  print(\"Không tìm thấy\")"
      ],
      "execution_count": null,
      "outputs": []
    },
    {
      "cell_type": "markdown",
      "metadata": {
        "id": "-GB7mELPIGUX"
      },
      "source": [
        "#Bài 2: Viết chương trình thực hiện các yêu cầu sau:\n",
        "- Sinh ngẫu nhiên 1 danh sách n số nguyên trong đoạn [a, b], với các thông số n, a và b được\n",
        "nhập vào từ bàn phím;\n",
        "- Nhập vào 1 số x từ bàn phím có giá trị trong đoạn [a, b];\n",
        "- Tìm kiếm x có xuất hiện trong danh sách trên hay không theo yêu cầu sau:\n",
        "o Nếu có thì trả về vị trí xuất hiện đầu tiên trong danh sách và thông báo số bước lặp\n",
        "đã thực hiện để tìm được phần tử này.\n",
        "o Ngược lại, thông báo không tìm thấy."
      ]
    },
    {
      "cell_type": "code",
      "metadata": {
        "id": "JnCtzwF0IInr"
      },
      "source": [
        "import random\n",
        "danh_sach2 = []\n",
        "n = int(input(\"nhập số phần tử: \"))\n",
        "a = int(input(\"min: \"))\n",
        "b = int(input(\"max: \"))\n",
        "vi_tri = 0\n",
        "for i in range(n):\n",
        "  danh_sach2.append(random.randint(a, b))\n",
        "print(\"danh sách random: \", danh_sach2)\n",
        "x = int(input(\"nhập số muốn tìm: \"))\n",
        "for i in danh_sach2:\n",
        "  vi_tri+=1\n",
        "  if x == i:\n",
        "    print(\"Số\", x, \"xuất hiện lần đầu tiên ở vị trí\", vi_tri)\n",
        "    print(\"Số bước lặp để tìm được phần tử \", vi_tri)\n",
        "    break\n",
        "else:\n",
        "  print(\"Không tìm thấy\")"
      ],
      "execution_count": null,
      "outputs": []
    },
    {
      "cell_type": "markdown",
      "metadata": {
        "id": "_y9aizzgHz_q"
      },
      "source": [
        "#Bài 3: Viết chương trình thực hiện các yêu cầu sau:\n",
        "- Bước 1: Sinh ngẫu nhiên 1 danh sách n số nguyên trong đoạn [a, b], với các thông số n, a\n",
        "và b được nhập vào từ bàn phím;\n",
        "- Bước 2: Nhập vào 1 số x từ bàn phím có giá trị trong đoạn [a, b];\n",
        "- Bước 3: Sắp xếp danh sách trên theo chiều tăng dần\n",
        "- Bước 4: Tìm kiếm x có xuất hiện trong danh sách trên hay không theo yêu cầu sau:\n",
        "o Nếu có thì trả về vị trí xuất hiện đầu tiên trong danh sách và thông báo số bước lặp\n",
        "đã thực hiện để tìm được phần tử này.\n",
        "o Ngược lại, thông báo không tìm thấy."
      ]
    },
    {
      "cell_type": "code",
      "metadata": {
        "id": "XAG4jdF1HvBb"
      },
      "source": [
        "import random\n",
        "danh_sach3 = []\n",
        "n = int(input(\"nhập số phần tử: \"))\n",
        "a = int(input(\"min: \"))\n",
        "b = int(input(\"max: \"))\n",
        "vi_tri = 0\n",
        "for i in range(n):\n",
        "  danh_sach3.append(random.randint(a, b))\n",
        "print(\"danh sách random: \", danh_sach3)\n",
        "for i in range(len(danh_sach3)):\n",
        "    for j in range(i + 1, len(danh_sach3)):\n",
        "        if danh_sach3[i] > danh_sach3[j]:\n",
        "            danh_sach3[i], danh_sach3[j] = danh_sach3[j], danh_sach3[i]\n",
        "print(\"sắp xếp theo chiều tăng dần: \", danh_sach3)\n",
        "x = int(input(\"nhập số muốn tìm: \"))\n",
        "for i in danh_sach3:\n",
        "  vi_tri+=1\n",
        "  if x == i:\n",
        "    print(\"Số\", x, \"xuất hiện lần đầu tiên ở vị trí\", vi_tri)\n",
        "    print(\"Số bước lặp để tìm được phần tử \", vi_tri)\n",
        "    break\n",
        "else:\n",
        "  print(\"Không tìm thấy\")"
      ],
      "execution_count": null,
      "outputs": []
    },
    {
      "cell_type": "markdown",
      "metadata": {
        "id": "5sLG9RXJHjcL"
      },
      "source": [
        "#Bài 4: Viết chương trình thực hiện các yêu cầu sau:\n",
        "- Bước 1: Sinh ngẫu nhiên 1 danh sách n số nguyên trong đoạn [a, b], với các thông số n, a\n",
        "và b được nhập vào từ bàn phím;\n",
        "- Bước 2: Nhập vào 1 số x từ bàn phím có giá trị trong đoạn [a, b];\n",
        "\n",
        "- Bước 3: Sắp xếp danh sách trên theo chiều tăng dần\n",
        "- Bước 4: Tìm kiếm x có xuất hiện trong danh sách trên hay không theo yêu cầu sau:\n",
        "o Nếu có thì trả về tất cả các vị trí xuất hiện trong danh sách và thông báo số bước\n",
        "lặp đã thực hiện để tìm được các phần tử này.\n",
        "o Ngược lại, thông báo không tìm thấy."
      ]
    },
    {
      "cell_type": "code",
      "metadata": {
        "id": "RA8J4LSVHqm1"
      },
      "source": [
        "import random\n",
        "danh_sach4 = []\n",
        "n = int(input(\"nhập số phần tử: \"))\n",
        "a = int(input(\"min: \"))\n",
        "b = int(input(\"max: \"))\n",
        "vi_tri = 0\n",
        "for i in range(n):\n",
        "  danh_sach4.append(random.randint(a, b))\n",
        "print(\"danh sách random: \", danh_sach4)\n",
        "for i in range(len(danh_sach4)):\n",
        "    for j in range(i + 1, len(danh_sach4)):\n",
        "        if danh_sach4[i] > danh_sach4[j]:\n",
        "           danh_sach4[i], danh_sach4[j] = danh_sach4[j], danh_sach4[i]\n",
        "print(\"sắp xếp theo chiều tăng dần: \", danh_sach4)\n",
        "x = int(input(\"nhập số muốn tìm: \"))\n",
        "tim_kiem  = 0\n",
        "for i in danh_sach4:\n",
        "  vi_tri+=1\n",
        "  if x == i:\n",
        "    print(\"Số\", x, \"xuất hiện ở vị trí\", vi_tri)\n",
        "    print(\"Số bước lặp để tìm được phần tử \", vi_tri)\n",
        "    tim_kiem+=1\n",
        "if tim_kiem == 0:\n",
        "  print(\"không tìm thấy\")"
      ],
      "execution_count": null,
      "outputs": []
    },
    {
      "cell_type": "code",
      "metadata": {
        "id": "fKf-KQ7uQSrG"
      },
      "source": [
        ""
      ],
      "execution_count": null,
      "outputs": []
    }
  ]
}