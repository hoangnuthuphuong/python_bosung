{
  "nbformat": 4,
  "nbformat_minor": 0,
  "metadata": {
    "colab": {
      "name": "bài tập lập trình nâng cao_22/11",
      "private_outputs": true,
      "provenance": [],
      "authorship_tag": "ABX9TyOEKBwro34dlj1+ujoZWqET",
      "include_colab_link": true
    },
    "kernelspec": {
      "name": "python3",
      "display_name": "Python 3"
    },
    "language_info": {
      "name": "python"
    }
  },
  "cells": [
    {
      "cell_type": "markdown",
      "metadata": {
        "id": "view-in-github",
        "colab_type": "text"
      },
      "source": [
        "<a href=\"https://colab.research.google.com/github/hoangnuthuphuong/python_bosung/blob/main/b%C3%A0i_t%E1%BA%ADp_l%E1%BA%ADp_tr%C3%ACnh_n%C3%A2ng_cao_22_11.ipynb\" target=\"_parent\"><img src=\"https://colab.research.google.com/assets/colab-badge.svg\" alt=\"Open In Colab\"/></a>"
      ]
    },
    {
      "cell_type": "markdown",
      "metadata": {
        "id": "sKTk45NTu7Cp"
      },
      "source": [
        "#Câu 1:\n",
        " Viết chương trình thực hiện các yêu cầu sau:\n",
        "- Nhập vào 1 số nguyên dương N từ bàn phím\n",
        "- Hãy xây dựng 1 dictionary với các phần tử chỉ mục và giá trị có dạng (i: log(i)) với I đi từ\n",
        "0 tới N\n",
        "- Hiển thị dictionary trên ra màn hình"
      ]
    },
    {
      "cell_type": "code",
      "metadata": {
        "id": "6tPNLJIeuUO4"
      },
      "source": [
        "import math\n",
        "n = int(input(\"nhập số n: \"))\n",
        "dic = {}\n",
        "for i in range(1, n+1):\n",
        "  dic[i] = math.log(i)\n",
        "print(dic)"
      ],
      "execution_count": null,
      "outputs": []
    },
    {
      "cell_type": "markdown",
      "metadata": {
        "id": "HN3GjTzqu0Wx"
      },
      "source": [
        "#Câu 2:\n",
        "Viết chương trình thực hiện các yêu cầu sau:\n",
        "- Nhập vào từ bàn phím một chuỗi các giá trị (có thể là số nguyên, số thực hay các ký tự)\n",
        "cách nhau bởi dấu phẩy (“,”).\n",
        "- Chuyển chuỗi được nhập từ bàn phím thành một danh sách (list)\n",
        "- Hiển thị danh sách đó ra màn hình.\n"
      ]
    },
    {
      "cell_type": "code",
      "metadata": {
        "id": "UpyhXeyuxvvT"
      },
      "source": [
        "chuoi = str(input(\"Nhập chuỗi: \"))\n",
        "list = []\n",
        "pi = \"\"\n",
        "for i in range(len(chuoi)):\n",
        "  if chuoi[i] != \",\":\n",
        "    pi = pi + chuoi[i]\n",
        "  else: \n",
        "    list.append(pi)\n",
        "    pi = \"\"\n",
        "else:\n",
        "  list.append(pi)\n",
        "print(list)"
      ],
      "execution_count": null,
      "outputs": []
    },
    {
      "cell_type": "markdown",
      "metadata": {
        "id": "8cn711xMuuh1"
      },
      "source": [
        "#Bài 3:\n",
        "Viết chương trình thực hiện các yêu cầu sau:\n",
        "- Nhập vào từ bàn phím một chuỗi các giá trị (có thể là số nguyên, số thực hay các ký tự)\n",
        "cách nhau bởi dấu phẩy (“,”).\n",
        "- Chuyển chuỗi được nhập từ bàn phím thành một tuple\n",
        "- Hiển thị tuple đó ra màn hình."
      ]
    },
    {
      "cell_type": "code",
      "metadata": {
        "id": "3f_q443nxgkM"
      },
      "source": [
        "a1 = str(input(\"Nhập chuỗi: \"))\n",
        "a = []\n",
        "b = ()\n",
        "pi = \"\"\n",
        "for i in range(len(a1)):\n",
        "  if a1[i] != \",\":\n",
        "    pi = pi + a1[i]\n",
        "  else: \n",
        "    a.append(pi)\n",
        "    pi = \"\"\n",
        "else:\n",
        "  a.append(pi)\n",
        "b = tuple(a)\n",
        "print(b)\n"
      ],
      "execution_count": null,
      "outputs": []
    },
    {
      "cell_type": "markdown",
      "metadata": {
        "id": "CZSqNSIYupiJ"
      },
      "source": [
        "#Bài 4:\n",
        "Viết chương trình thực hiện các yêu cầu sau:\n",
        "- Nhập vào 1 chuỗi các kí tự từ bàn phím, các từ cách nhau bởi ít nhất một khoảng trắng\n",
        "- Chuyển chuỗi vừa nhập thành 1 danh sách với điều kiện phân tách là dấu khoảng trắng\n",
        "(space)\n",
        "- Hiển thị danh sách thu được ra màn hình\n",
        "\n",
        "\n"
      ]
    },
    {
      "cell_type": "code",
      "metadata": {
        "id": "x2KNs54mur2y"
      },
      "source": [
        "phuong = str(input(\"Nhập chuỗi: \"))\n",
        "list2 = []\n",
        "pi = \"\"\n",
        "for i in range(len(phuong)):\n",
        "  if ka[i] != \" \":\n",
        "    pi = pi + ka[i]\n",
        "  else: \n",
        "    list2.append(pi)\n",
        "    pi = \"\"\n",
        "else:\n",
        "  list2.append(pi)\n",
        "print(list2)"
      ],
      "execution_count": null,
      "outputs": []
    },
    {
      "cell_type": "markdown",
      "metadata": {
        "id": "H7eHnX_TufXE"
      },
      "source": [
        "#Bài 5:\n",
        "Viết chương trình thực hiện các yêu cầu sau:\n",
        "- Nhập vào 1 danh sách các số nguyên từ bàn phím (Quá trình nhập dừng khi người dùng\n",
        "nhập vào 1 kí tự từ a đến z)\n",
        "- Hiển thị danh sách đó ra màn hình\n",
        "- Yêu cầu người dùng nhập vào một số nguyên N từ bàn phím"
      ]
    },
    {
      "cell_type": "code",
      "metadata": {
        "id": "Re5iYS1vudux"
      },
      "source": [
        "import string\n",
        "phuong = []\n",
        "vi_tri = 0\n",
        "tìm = 0\n",
        "while True:\n",
        "  n = str(input(\"Nhập số nguyên từ bàn phím: \"))\n",
        "  if n in string.ascii_letters:\n",
        "    break\n",
        "  phuong.append(int(n))\n",
        "print(phuong)\n",
        "N = int(input(\"Nhập số nguyên cần tìm: \"))\n",
        "for i in phuong:\n",
        "  vi_tri += 1\n",
        "  if N == i:\n",
        "    print(\"Số\", N, \"xuất hiện lần đầu ở vị trí thứ \", vi_tri)\n",
        "    vi_tri = 0\n",
        "    break\n",
        "else:\n",
        "  print(\"Không tìm thấy số này\")\n",
        "for i in phuong:\n",
        "  vi_tri += 1\n",
        "  if N == i:\n",
        "    print(\"Số\", N, \"xuất hiện ở vị trí thứ \", vi_tri)\n",
        "    tìm += 1\n",
        "if tìm == 0:\n",
        "  print(\"Không tìm thấy số này\")"
      ],
      "execution_count": null,
      "outputs": []
    },
    {
      "cell_type": "code",
      "metadata": {
        "id": "Gr-Gmhguyggp"
      },
      "source": [
        ""
      ],
      "execution_count": null,
      "outputs": []
    }
  ]
}