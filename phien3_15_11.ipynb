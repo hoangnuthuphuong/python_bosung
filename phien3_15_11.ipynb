{
  "nbformat": 4,
  "nbformat_minor": 0,
  "metadata": {
    "colab": {
      "name": "phien3_15/11",
      "private_outputs": true,
      "provenance": [],
      "authorship_tag": "ABX9TyN6G/OfcDPygkWB5pw7WHkc",
      "include_colab_link": true
    },
    "kernelspec": {
      "name": "python3",
      "display_name": "Python 3"
    },
    "language_info": {
      "name": "python"
    }
  },
  "cells": [
    {
      "cell_type": "markdown",
      "metadata": {
        "id": "view-in-github",
        "colab_type": "text"
      },
      "source": [
        "<a href=\"https://colab.research.google.com/github/hoangnuthuphuong/python_bosung/blob/main/phien3_15_11.ipynb\" target=\"_parent\"><img src=\"https://colab.research.google.com/assets/colab-badge.svg\" alt=\"Open In Colab\"/></a>"
      ]
    },
    {
      "cell_type": "code",
      "metadata": {
        "id": "4io37ekUvBCI"
      },
      "source": [
        "#1\n",
        "list1 = [1, 2, 3, 4, 5, 6, 7 ]\n",
        "\n",
        "print(\"Tổng các phần tử trong list1: \", sum(list1))"
      ],
      "execution_count": null,
      "outputs": []
    },
    {
      "cell_type": "code",
      "metadata": {
        "id": "pBof8E2bRLIc"
      },
      "source": [
        "#2\n",
        "import numpy\n",
        "list1 = [1, 2, 3, 4, 5, 6, 7 ]\n",
        "\n",
        "print(\"Tích các phần tử trong list1: \", numpy.prod(list1))"
      ],
      "execution_count": null,
      "outputs": []
    },
    {
      "cell_type": "code",
      "metadata": {
        "id": "z0NDswhaRG-W"
      },
      "source": [
        "#3\n",
        "list1 = [1, 2, 3, 4, 5, 6, 7 ]\n",
        "\n",
        "print(\"Phần tử lớn nhất trong list1: \", max(list1))"
      ],
      "execution_count": null,
      "outputs": []
    },
    {
      "cell_type": "code",
      "metadata": {
        "id": "hQy9SXGCRChz"
      },
      "source": [
        "#4\n",
        "list1 = [1, 2, 3, 4, 5, 6, 7 ]\n",
        "\n",
        "print(\"Phần tử nhỏ nhất trong list1: \", min(list1))"
      ],
      "execution_count": null,
      "outputs": []
    },
    {
      "cell_type": "code",
      "metadata": {
        "id": "kibBwNe9Q8QB"
      },
      "source": [
        "#5\n",
        "list2 = [5, 6, 8, 3, 0, 8, 7, 4 ]\n",
        "\n",
        "list2.sort(reverse=False)\n",
        "print(\"Sắp sếp tăng dần: \",list2)"
      ],
      "execution_count": null,
      "outputs": []
    },
    {
      "cell_type": "code",
      "metadata": {
        "id": "BEdc67GEQve3"
      },
      "source": [
        "#6\n",
        "list2 = [5, 6, 8, 3, 0, 8, 7, 4 ]\n",
        "\n",
        "list2.sort(reverse=True)\n",
        "print(\"Sắp sếp giảm dần: \", list2)\n"
      ],
      "execution_count": null,
      "outputs": []
    },
    {
      "cell_type": "code",
      "metadata": {
        "id": "mmbpqtfnveGU"
      },
      "source": [
        "#7\n",
        "list2 = [5, 6, 8, 3, 0, 8, 7, 4 ]\n",
        "\n",
        "print(\"Kích thước list2: \", len(list2))\n"
      ],
      "execution_count": null,
      "outputs": []
    },
    {
      "cell_type": "code",
      "metadata": {
        "id": "sGapkswTvxhF"
      },
      "source": [
        "#8\n",
        "import random\n",
        "list2 = [5, 6, 8, 3, 0, 8, 7, 4 ]\n",
        "\n",
        "print(\"Lấy phần tử ngẫu nhiên trong list2:\", random.choice(list2))"
      ],
      "execution_count": null,
      "outputs": []
    },
    {
      "cell_type": "code",
      "metadata": {
        "id": "WAkXslF_RQhH"
      },
      "source": [
        "#9\n",
        "list1 = [1, 2, 3, 4, 5, 6, 7 ]\n",
        "list2 = [5, 6, 8, 3, 0, 8, 7, 4 ]\n",
        "\n",
        "print(\"list1 + list 2 = \", list1 + list2)"
      ],
      "execution_count": null,
      "outputs": []
    },
    {
      "cell_type": "code",
      "metadata": {
        "id": "gDrZZU0WRW8M"
      },
      "source": [
        ""
      ],
      "execution_count": null,
      "outputs": []
    }
  ]
}