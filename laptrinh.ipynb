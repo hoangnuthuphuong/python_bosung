{
  "nbformat": 4,
  "nbformat_minor": 0,
  "metadata": {
    "colab": {
      "name": "laptrinh",
      "private_outputs": true,
      "provenance": [],
      "authorship_tag": "ABX9TyNe1r24PCa1Y1oaXQuza0s7",
      "include_colab_link": true
    },
    "kernelspec": {
      "name": "python3",
      "display_name": "Python 3"
    },
    "language_info": {
      "name": "python"
    }
  },
  "cells": [
    {
      "cell_type": "markdown",
      "metadata": {
        "id": "view-in-github",
        "colab_type": "text"
      },
      "source": [
        "<a href=\"https://colab.research.google.com/github/hoangnuthuphuong/python_bosung/blob/main/laptrinh.ipynb\" target=\"_parent\"><img src=\"https://colab.research.google.com/assets/colab-badge.svg\" alt=\"Open In Colab\"/></a>"
      ]
    },
    {
      "cell_type": "code",
      "metadata": {
        "id": "C2SZ4rhB8m3U"
      },
      "source": [
        "class Person():\n",
        "  name: str\n",
        "  gender: str\n",
        "  phone: int\n",
        "\n",
        "  def __init__(self, name, gender, phone) -> None:\n",
        "    super().__init__()\n",
        "    self.name = name\n",
        "    self.gender = gender\n",
        "    self.phone = phone\n",
        "\n",
        "  def outputPerson(self) -> str:\n",
        "      result = \"Name: \" + self.name + \"\\tGender: \" + self.gender + \"\\tPhone: \" + str(self.phone)\n",
        "      return result\n",
        "\n",
        "class Student(Person):\n",
        "  studentID: int\n",
        "  class1: str\n",
        "\n",
        "  def __init__(self, name, gender, phone, studentID, class1) -> None:\n",
        "    Person.__init__(self, name, gender, phone) \n",
        "    self.studentID = studentID\n",
        "    self.class1 = class1\n",
        "\n",
        "  def outputStudent(self) -> str:\n",
        "    result = self.outputPerson() + \"\\n\\tStudentID: \" + str(self.studentID) + \"\\tsinh vien nam: \" + str(self.class1)\n",
        "    return result\n",
        "\n",
        "class Lecturer(Person):\n",
        "  lecturerID: int\n",
        "  yearOfExperience: int\n",
        "\n",
        "  def __init__(self, name, gender, phone, lecturerID, yearOfExperience) -> None:\n",
        "    Person.__init__(self, name, gender, phone) \n",
        "    self.lecturerID = lecturerID\n",
        "    self.yearOfExperience = yearOfExperience\n",
        "\n",
        "  def outputLecturer(self) -> str:\n",
        "    result = self.outputPerson() + \"\\n\\tLecturerID: \" + str(self.lecturerID) + \"\\tYearOfExperience: \" + str(self.yearOfExperience)\n",
        "    return result\n",
        "def main():\n",
        "  phuong = Person(\"Thu Phương\", \"Nữ\", \"801147384\")\n",
        "  phuc = Student(\"Phúc\", \"Nam\", \"15468321\", 111, 1)\n",
        "  cuong = Lecturer(\"Cương\", \"Nam\", \"16457644\", 264, 5)\n",
        "  print(phuong.outputPerson())\n",
        "  print(phuc.outputStudent())\n",
        "  print(cuong.outputLecturer())\n",
        "\n",
        "if __name__ == \"__main__\":\n",
        "    main()\n",
        "\n"
      ],
      "execution_count": null,
      "outputs": []
    }
  ]
}