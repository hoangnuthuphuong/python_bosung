{
  "nbformat": 4,
  "nbformat_minor": 0,
  "metadata": {
    "colab": {
      "name": "phien1_ngay15/11",
      "private_outputs": true,
      "provenance": [],
      "authorship_tag": "ABX9TyOZjQFz60nYiyFwMZdFsO+k",
      "include_colab_link": true
    },
    "kernelspec": {
      "name": "python3",
      "display_name": "Python 3"
    },
    "language_info": {
      "name": "python"
    }
  },
  "cells": [
    {
      "cell_type": "markdown",
      "metadata": {
        "id": "view-in-github",
        "colab_type": "text"
      },
      "source": [
        "<a href=\"https://colab.research.google.com/github/hoangnuthuphuong/python_bosung/blob/main/phien1_ngay15_11.ipynb\" target=\"_parent\"><img src=\"https://colab.research.google.com/assets/colab-badge.svg\" alt=\"Open In Colab\"/></a>"
      ]
    },
    {
      "cell_type": "code",
      "metadata": {
        "id": "027XA3LWOage"
      },
      "source": [
        "list1 = ['physics', 'chemistry', 1997, 2000]\n",
        "list2 = [1, 2, 3, 4, 5, 6, 7 ]\n",
        "print(\"list1[0]: \", list1[0])\n",
        "print(\"list2[1:5]: \", list2[1:5])\n"
      ],
      "execution_count": null,
      "outputs": []
    },
    {
      "cell_type": "code",
      "metadata": {
        "id": "BfPfQGKhPJn2"
      },
      "source": [
        "list1 = ['physics', 'chemistry', 1997, 2000]\n",
        "print(\"Phần tử thứ 2 của list là : \")\n",
        "print(list1[2])\n",
        "list1[2] = 2001\n",
        "print(\"Phần tử thứ 2 mới của list là : \")\n",
        "print(list1[2])"
      ],
      "execution_count": null,
      "outputs": []
    },
    {
      "cell_type": "code",
      "metadata": {
        "id": "CjLzSCO1Pkyq"
      },
      "source": [
        "list2 = [1, 2, 3, 4, 5, 6, 7 , 'hi']\n",
        "len(list2)\n"
      ],
      "execution_count": null,
      "outputs": []
    },
    {
      "cell_type": "code",
      "metadata": {
        "id": "dXgx0FaDP-Ra"
      },
      "source": [
        "[2, 3] + [4, 5, 6]"
      ],
      "execution_count": null,
      "outputs": []
    },
    {
      "cell_type": "code",
      "metadata": {
        "id": "uD8j7KydQcW5"
      },
      "source": [
        "[\"phuong cute!\"] * 3"
      ],
      "execution_count": null,
      "outputs": []
    },
    {
      "cell_type": "code",
      "metadata": {
        "id": "J5j4v2FLQmyW"
      },
      "source": [
        "\"phuong\" in [1, 2, 3, 4, 5, 6, 7 , 'hi']"
      ],
      "execution_count": null,
      "outputs": []
    },
    {
      "cell_type": "code",
      "metadata": {
        "id": "jr4qT9KTQs84"
      },
      "source": [
        "for x in [1, 2, 3]: print(x)"
      ],
      "execution_count": null,
      "outputs": []
    },
    {
      "cell_type": "code",
      "metadata": {
        "id": "r3ruxieYQ6Wy"
      },
      "source": [
        "L = [\"Red\", \"Yellow\", \"Green\"]\n",
        "print(\"phần tử thứ 3 của list: \",L[2])\n",
        "print(\"phần tử thứ 2 từ phải qua của list: \",L[-2]) \n",
        "print(\"từ phần tử thứ 2 đến hết list: \",L[1:]) "
      ],
      "execution_count": null,
      "outputs": []
    },
    {
      "cell_type": "code",
      "metadata": {
        "id": "WABjsU-aR5h3"
      },
      "source": [
        "list1 = [ 1997, 2000]\n",
        "list2 = [1, 2, 3, 4, 5, 6, 7 ]\n",
        "\n",
        "print(\"Tổng số các phần tử của list1: \",len(list1))\n",
        "print(\"Trả về phần tử của list1 có giá trị lớn nhất\",max(list1))\n",
        "print(\"Trả về phần tử của list1 có giá trị nhỏ nhất\",min(list1))\n",
        "\n"
      ],
      "execution_count": null,
      "outputs": []
    },
    {
      "cell_type": "code",
      "metadata": {
        "id": "35yvHcy0UaDd"
      },
      "source": [
        "list1 = [ 1, 2, 3, 4, 5, 6, 7 , 1997, 2000]\n",
        "\n",
        "print(\"Thêm phần tử 50 vào List\")\n",
        "list1.append(50) \n",
        "print(list1)\n",
        "\n",
        "print(\"Đếm số lần 50 xuất hiện trong List\")\n",
        "list1.count(50) \n",
        "print(list1)\n",
        "\n",
        "print(\"Lấy vị trí xuất hiện đầu tiên trong List (chỉ số thấp nhất) của 1777\")\n",
        "list1.index(1997) \n",
        "print(list1)\n",
        "\n",
        "print(\"Chèn 2000 vào List ở vị trí 1\")\n",
        "list1.insert(1, 2000) \n",
        "print(list1)\n",
        "\n",
        "print(\"Xóa 5 khỏi List\")\n",
        "list1.remove(5) \n",
        "print(list1)\n"
      ],
      "execution_count": null,
      "outputs": []
    },
    {
      "cell_type": "code",
      "metadata": {
        "id": "F4HG3VDMYCCI"
      },
      "source": [
        ""
      ],
      "execution_count": null,
      "outputs": []
    }
  ]
}